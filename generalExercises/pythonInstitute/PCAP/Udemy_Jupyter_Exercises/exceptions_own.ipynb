{
 "cells": [
  {
   "cell_type": "code",
   "execution_count": 6,
   "id": "3d443561-d5b0-43ee-96cc-cae52a8254c0",
   "metadata": {},
   "outputs": [],
   "source": [
    "class AnimalValueError(ValueError):\n",
    "    pass\n",
    "\n",
    "def produce_sound(sound):\n",
    "    if sound == 'DOG':\n",
    "        print('Woof woof')\n",
    "    elif sound == 'CAT':\n",
    "        print('Meow')\n",
    "    else:\n",
    "        raise AnimalValueError('Incorrect animal type')"
   ]
  },
  {
   "cell_type": "code",
   "execution_count": 7,
   "id": "be3181af-3121-416a-83b1-3361c2147e08",
   "metadata": {},
   "outputs": [
    {
     "name": "stdout",
     "output_type": "stream",
     "text": [
      "Woof woof\n"
     ]
    }
   ],
   "source": [
    "produce_sound('DOG')"
   ]
  },
  {
   "cell_type": "code",
   "execution_count": 8,
   "id": "0b96d526-7437-4994-97f4-13e7ac1fb6ee",
   "metadata": {},
   "outputs": [
    {
     "name": "stdout",
     "output_type": "stream",
     "text": [
      "Meow\n"
     ]
    }
   ],
   "source": [
    "produce_sound('CAT')"
   ]
  },
  {
   "cell_type": "code",
   "execution_count": 9,
   "id": "912c6fc2-095e-4f1b-9fdb-da23db8c98e6",
   "metadata": {},
   "outputs": [
    {
     "ename": "AnimalValueError",
     "evalue": "Incorrect animal type",
     "output_type": "error",
     "traceback": [
      "\u001b[0;31m---------------------------------------------------------------------------\u001b[0m",
      "\u001b[0;31mAnimalValueError\u001b[0m                          Traceback (most recent call last)",
      "Cell \u001b[0;32mIn[9], line 1\u001b[0m\n\u001b[0;32m----> 1\u001b[0m \u001b[43mproduce_sound\u001b[49m\u001b[43m(\u001b[49m\u001b[38;5;124;43m'\u001b[39;49m\u001b[38;5;124;43mCOW\u001b[39;49m\u001b[38;5;124;43m'\u001b[39;49m\u001b[43m)\u001b[49m\n",
      "Cell \u001b[0;32mIn[6], line 10\u001b[0m, in \u001b[0;36mproduce_sound\u001b[0;34m(sound)\u001b[0m\n\u001b[1;32m      8\u001b[0m     \u001b[38;5;28mprint\u001b[39m(\u001b[38;5;124m'\u001b[39m\u001b[38;5;124mMeow\u001b[39m\u001b[38;5;124m'\u001b[39m)\n\u001b[1;32m      9\u001b[0m \u001b[38;5;28;01melse\u001b[39;00m:\n\u001b[0;32m---> 10\u001b[0m     \u001b[38;5;28;01mraise\u001b[39;00m AnimalValueError(\u001b[38;5;124m'\u001b[39m\u001b[38;5;124mIncorrect animal type\u001b[39m\u001b[38;5;124m'\u001b[39m)\n",
      "\u001b[0;31mAnimalValueError\u001b[0m: Incorrect animal type"
     ]
    }
   ],
   "source": [
    "produce_sound('COW')"
   ]
  },
  {
   "cell_type": "code",
   "execution_count": 14,
   "id": "4e7b5d3f-9ef8-4043-b37b-86b01bb5d0f2",
   "metadata": {},
   "outputs": [
    {
     "name": "stdout",
     "output_type": "stream",
     "text": [
      "Hello Tony\n",
      "UserActionException Error ocurred, message: empty name!, user id 4321\n"
     ]
    }
   ],
   "source": [
    "class UserActionException(Exception):\n",
    "\n",
    "    def __init__(self, message, user_id):\n",
    "        super().__init__()\n",
    "        self.message = message\n",
    "        self.user_id = user_id\n",
    "\n",
    "    def __str__(self):\n",
    "        return type(self).__name__ + ' Error ocurred, message: ' + self.message + ', user id ' + self.user_id\n",
    "\n",
    "\n",
    "def say_hello(name, user_id):\n",
    "    if name == '':\n",
    "        raise UserActionException('empty name!', user_id)\n",
    "    print('Hello', name)\n",
    "\n",
    "try:\n",
    "    say_hello('Tony', '1234')\n",
    "    say_hello( '', '4321')\n",
    "except Exception as e:\n",
    "    print(e)\n",
    "except:\n",
    "    print('Failure')\n",
    "    "
   ]
  },
  {
   "cell_type": "code",
   "execution_count": 16,
   "id": "f484d859-c204-4331-bdd3-a049cedae219",
   "metadata": {},
   "outputs": [],
   "source": [
    "class EmptyNameUserActionException(UserActionException):\n",
    "    def __init__(self, user_id=''):\n",
    "        super().__init__('An empty name was provided', user_id)\n",
    "\n",
    "\n",
    "def say_hello(name, user_id):\n",
    "    if name == '':\n",
    "        raise EmptyNameUserActionException(user_id)\n",
    "    print('Hello', name)\n",
    "\n"
   ]
  },
  {
   "cell_type": "code",
   "execution_count": 17,
   "id": "529024ae-16ad-4f37-ac38-0e1c13f2e09f",
   "metadata": {},
   "outputs": [
    {
     "name": "stdout",
     "output_type": "stream",
     "text": [
      "Hello Tony\n",
      "EmptyNameUserActionException Error ocurred, message: An empty name was provided, user id 4321\n"
     ]
    }
   ],
   "source": [
    "try:\n",
    "    say_hello('Tony', '1234')\n",
    "    say_hello( '', '4321')\n",
    "except Exception as e:\n",
    "    print(e)\n",
    "except:\n",
    "    print('Failure')"
   ]
  },
  {
   "cell_type": "code",
   "execution_count": 23,
   "id": "b016ef51-02eb-4116-a51f-36142e0cf135",
   "metadata": {},
   "outputs": [
    {
     "name": "stdout",
     "output_type": "stream",
     "text": [
      "Wrong!Wrong!\n",
      "Wrong!\n"
     ]
    }
   ],
   "source": [
    "# La variable de instancia args sobreescribe la concatenacion msg+msg\n",
    "\n",
    "class MyEx(Exception):\n",
    "    def __init__(self, msg):\n",
    "        Exception.__init__(self, msg+msg)\n",
    "        #self.args = (msg,)\n",
    "\n",
    "try:\n",
    "    raise MyEx('Wrong!')\n",
    "except Exception as e:\n",
    "    print(e)\n",
    "\n",
    "\n",
    "class MyEx(Exception):\n",
    "    def __init__(self, msg):\n",
    "        Exception.__init__(self, msg+msg)\n",
    "        self.args = (msg,)\n",
    "\n",
    "try:\n",
    "    raise MyEx('Wrong!')\n",
    "except Exception as e:\n",
    "    print(e)"
   ]
  }
 ],
 "metadata": {
  "kernelspec": {
   "display_name": "Python 3 (ipykernel)",
   "language": "python",
   "name": "python3"
  },
  "language_info": {
   "codemirror_mode": {
    "name": "ipython",
    "version": 3
   },
   "file_extension": ".py",
   "mimetype": "text/x-python",
   "name": "python",
   "nbconvert_exporter": "python",
   "pygments_lexer": "ipython3",
   "version": "3.12.1"
  }
 },
 "nbformat": 4,
 "nbformat_minor": 5
}
