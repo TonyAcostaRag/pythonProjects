{
 "cells": [
  {
   "cell_type": "code",
   "execution_count": 3,
   "id": "e3c2057e-ebfd-4f7e-a238-9b21980c1a99",
   "metadata": {},
   "outputs": [],
   "source": [
    "def get_inverse(x):\n",
    "    try:\n",
    "        return 1/x\n",
    "    except ZeroDivisionError:\n",
    "        return None\n",
    "    finally:\n",
    "        print('I\\'m always printed')"
   ]
  },
  {
   "cell_type": "code",
   "execution_count": 4,
   "id": "7a1681c4-812a-4c2e-a20a-ef1df253dd56",
   "metadata": {},
   "outputs": [
    {
     "name": "stdout",
     "output_type": "stream",
     "text": [
      "I'm always printed\n"
     ]
    },
    {
     "data": {
      "text/plain": [
       "0.1"
      ]
     },
     "execution_count": 4,
     "metadata": {},
     "output_type": "execute_result"
    }
   ],
   "source": [
    "x = 10\n",
    "\n",
    "get_inverse(x)"
   ]
  },
  {
   "cell_type": "code",
   "execution_count": 5,
   "id": "e128ca8b-7557-4746-a32f-c5714a097812",
   "metadata": {},
   "outputs": [
    {
     "name": "stdout",
     "output_type": "stream",
     "text": [
      "I'm always printed\n"
     ]
    }
   ],
   "source": [
    "x = 0\n",
    "\n",
    "get_inverse(x)"
   ]
  }
 ],
 "metadata": {
  "kernelspec": {
   "display_name": "Python 3 (ipykernel)",
   "language": "python",
   "name": "python3"
  },
  "language_info": {
   "codemirror_mode": {
    "name": "ipython",
    "version": 3
   },
   "file_extension": ".py",
   "mimetype": "text/x-python",
   "name": "python",
   "nbconvert_exporter": "python",
   "pygments_lexer": "ipython3",
   "version": "3.12.1"
  }
 },
 "nbformat": 4,
 "nbformat_minor": 5
}
