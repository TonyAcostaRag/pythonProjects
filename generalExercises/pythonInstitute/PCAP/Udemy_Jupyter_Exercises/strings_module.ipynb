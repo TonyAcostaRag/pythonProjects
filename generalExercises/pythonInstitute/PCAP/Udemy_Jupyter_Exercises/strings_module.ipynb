{
 "cells": [
  {
   "cell_type": "code",
   "execution_count": 2,
   "id": "dee26c3a-8704-4202-8811-0826984d4c0c",
   "metadata": {},
   "outputs": [
    {
     "data": {
      "text/plain": [
       "'single quotes'"
      ]
     },
     "execution_count": 2,
     "metadata": {},
     "output_type": "execute_result"
    }
   ],
   "source": [
    "sample1 = 'single quotes'\n",
    "sample1"
   ]
  },
  {
   "cell_type": "code",
   "execution_count": 3,
   "id": "11cee400-27d7-4acc-84ba-6a9801a1bfc3",
   "metadata": {},
   "outputs": [
    {
     "name": "stdout",
     "output_type": "stream",
     "text": [
      "A\n",
      "a\n",
      "F\n",
      "f\n",
      "Ā\n",
      "\u0000\n",
      "Þ\n"
     ]
    }
   ],
   "source": [
    "print(chr(65))\n",
    "print(chr(97))\n",
    "print(chr(70))\n",
    "print(chr(102))\n",
    "print(chr(256))\n",
    "print(chr(0))\n",
    "print(chr(222))"
   ]
  },
  {
   "cell_type": "code",
   "execution_count": 4,
   "id": "c66dce19-e0f1-4da8-9c45-a012188d3506",
   "metadata": {},
   "outputs": [
    {
     "name": "stdout",
     "output_type": "stream",
     "text": [
      "13\n"
     ]
    }
   ],
   "source": [
    "# Function to see the length of a string\n",
    "\n",
    "print(len(sample1))"
   ]
  },
  {
   "cell_type": "code",
   "execution_count": 9,
   "id": "0721fabb-4f0b-4faf-af47-484bc8b8132e",
   "metadata": {},
   "outputs": [
    {
     "name": "stdout",
     "output_type": "stream",
     "text": [
      "q\n",
      "F\n"
     ]
    }
   ],
   "source": [
    "# Indexing a string in Python with brakets\n",
    "\n",
    "print(sample1[7])\n",
    "print('Tony Acosta Flores'[12])"
   ]
  },
  {
   "cell_type": "code",
   "execution_count": 17,
   "id": "2bdd7262-d7b1-4f43-a525-ef72796de849",
   "metadata": {},
   "outputs": [
    {
     "name": "stdout",
     "output_type": "stream",
     "text": [
      "Tony Acosta Flores\n",
      "Tony\n",
      "Tony Acosta\n",
      "Flores\n",
      "Tn csaFoe\n"
     ]
    }
   ],
   "source": [
    "# Slicing in python\n",
    "\n",
    "name = 'Tony Acosta Flores'\n",
    "\n",
    "# Slicing all the characters\n",
    "print(name[:])\n",
    "\n",
    "# Slicing only the name\n",
    "print(name[:4])\n",
    "\n",
    "# Slicing name and last name\n",
    "print(name[:11])\n",
    "\n",
    "# Slicing the other last name\n",
    "print(name[12:])\n",
    "\n",
    "# Slicing all the name with a step of 2\n",
    "print(name[::2])"
   ]
  },
  {
   "cell_type": "code",
   "execution_count": 20,
   "id": "07e0aeaf-39ff-4956-b53c-1ed9eb18d453",
   "metadata": {},
   "outputs": [
    {
     "name": "stdout",
     "output_type": "stream",
     "text": [
      "Hello, I'm Tony Acosta and I'm a tester\n",
      "3\n"
     ]
    }
   ],
   "source": [
    "# Scaping characters in strings\n",
    "\n",
    "print('Hello, I\\'m Tony Acosta and I\\'m a tester')\n",
    "\n",
    "# Scape character is not included in the string lenght\n",
    "\n",
    "print(len('I\\'m'))"
   ]
  },
  {
   "cell_type": "code",
   "execution_count": 22,
   "id": "f18f9bcb-a6ea-4452-8638-85c8049eadbc",
   "metadata": {},
   "outputs": [
    {
     "name": "stdout",
     "output_type": "stream",
     "text": [
      "97\n",
      "65\n"
     ]
    }
   ],
   "source": [
    "# Function to return the code point of a given character\n",
    "\n",
    "print(ord('a'))\n",
    "print(ord('A'))"
   ]
  },
  {
   "cell_type": "code",
   "execution_count": 23,
   "id": "821ac88e-e297-49ad-8a95-026595062114",
   "metadata": {},
   "outputs": [
    {
     "name": "stdout",
     "output_type": "stream",
     "text": [
      "a\n",
      "A\n"
     ]
    }
   ],
   "source": [
    "# Function to return the character given the code point\n",
    "\n",
    "print(chr(97))\n",
    "print(chr(65))"
   ]
  },
  {
   "cell_type": "code",
   "execution_count": 25,
   "id": "17baf178-df9f-492c-b2b2-c3a845641232",
   "metadata": {},
   "outputs": [
    {
     "name": "stdout",
     "output_type": "stream",
     "text": [
      "\n",
      "Printing multilines in python\n",
      "\n",
      "Antonio Acosta Flores\n",
      "\n"
     ]
    }
   ],
   "source": [
    "\"\"\"\n",
    "This is a multiline comment.\n",
    "\n",
    "Method to print multilines in python.\n",
    "\"\"\"\n",
    "\n",
    "print('''\n",
    "Printing multilines in python\n",
    "\n",
    "Antonio Acosta Flores\n",
    "''')"
   ]
  },
  {
   "cell_type": "code",
   "execution_count": 27,
   "id": "d090f95e-51a2-4b4c-85cc-df8cbbde7ef6",
   "metadata": {},
   "outputs": [
    {
     "name": "stdout",
     "output_type": "stream",
     "text": [
      "14\n"
     ]
    }
   ],
   "source": [
    "# New line character in python does count into string lenght\n",
    "\n",
    "multiline_string = '''\n",
    "python\n",
    "\n",
    "Tony\n",
    "'''\n",
    "\n",
    "# There is 14 chars since the 4 new line charactera are taken into account.\n",
    "print(len(multiline_string))"
   ]
  },
  {
   "cell_type": "code",
   "execution_count": 32,
   "id": "99164586-d039-491c-804c-a0d21c2cf8f8",
   "metadata": {},
   "outputs": [
    {
     "name": "stdout",
     "output_type": "stream",
     "text": [
      "Adding 2 + 3 = 5\n",
      "Concatenating strings: String1String2\n"
     ]
    }
   ],
   "source": [
    "# Operator overloading in python\n",
    "\n",
    "# This happen when using an operator like plus sign for integers (adding) and for strings (concatenating)\n",
    "\n",
    "# When the orders does not matters, the operator is conmutative\n",
    "print('Adding 2 + 3 =', 2 + 3)\n",
    "\n",
    "# When the order matters, the operator is not conmutative\n",
    "print('Concatenating strings:', 'String1' + 'String2')"
   ]
  },
  {
   "cell_type": "code",
   "execution_count": 33,
   "id": "d5bddf00-1fca-4ecf-8fed-23bcce18e018",
   "metadata": {},
   "outputs": [],
   "source": [
    "# Strings in python are inmutable\n",
    "\n",
    "# This means that string are not changed, instead they are replaced with a new one."
   ]
  }
 ],
 "metadata": {
  "kernelspec": {
   "display_name": "Python 3 (ipykernel)",
   "language": "python",
   "name": "python3"
  },
  "language_info": {
   "codemirror_mode": {
    "name": "ipython",
    "version": 3
   },
   "file_extension": ".py",
   "mimetype": "text/x-python",
   "name": "python",
   "nbconvert_exporter": "python",
   "pygments_lexer": "ipython3",
   "version": "3.12.1"
  }
 },
 "nbformat": 4,
 "nbformat_minor": 5
}
