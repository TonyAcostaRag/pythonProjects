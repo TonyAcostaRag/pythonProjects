{
 "cells": [
  {
   "cell_type": "code",
   "execution_count": 1,
   "id": "b4857628-42e2-4bde-89f0-eb930706a99c",
   "metadata": {},
   "outputs": [
    {
     "name": "stdout",
     "output_type": "stream",
     "text": [
      "Something went wrong: [Errno 2] No such file or directory: 'file_.txt'\n"
     ]
    }
   ],
   "source": [
    "# Executing the cell before adding the file\n",
    "\n",
    "try:\n",
    "    stream = open('file_.txt')\n",
    "    stream.close()\n",
    "except Exception as e:\n",
    "    print('Something went wrong:', e)"
   ]
  },
  {
   "cell_type": "code",
   "execution_count": 2,
   "id": "c6dad88a-e423-4380-870d-a039d16848eb",
   "metadata": {},
   "outputs": [],
   "source": [
    "# Executing the cell after adding the file\n",
    "\n",
    "try:\n",
    "    stream = open('file.txt')\n",
    "    stream.close()\n",
    "except Exception as e:\n",
    "    print('Something went wrong:', e)"
   ]
  },
  {
   "cell_type": "code",
   "execution_count": 3,
   "id": "e1f22a74-fb64-4f10-a646-34866f4d303c",
   "metadata": {},
   "outputs": [
    {
     "name": "stdout",
     "output_type": "stream",
     "text": [
      "PIG is a domestic animal,\n",
      "LION is a wild animal,\n",
      "FOX is a wild animal that is sometimes kept as a pet.\n"
     ]
    }
   ],
   "source": [
    "# Using functions to interact with the file\n",
    "\n",
    "# read() without arguments read the whole file\n",
    "\n",
    "try:\n",
    "    stream = open('file.txt')\n",
    "    print(stream.read())\n",
    "    stream.close()\n",
    "except Exception as e:\n",
    "    print('Something went wrong:', e)"
   ]
  },
  {
   "cell_type": "code",
   "execution_count": 4,
   "id": "134f471e-7460-46f4-852e-4cdccadb7689",
   "metadata": {},
   "outputs": [
    {
     "name": "stdout",
     "output_type": "stream",
     "text": [
      "PIG i\n",
      "s a domestic animal,\n",
      "LION is a wild animal,\n",
      "FOX is a wild animal that is sometimes kept as a pet.\n"
     ]
    }
   ],
   "source": [
    "'''\n",
    "# Using functions to interact with the file\n",
    "\n",
    "# read(5) with arguments read the whole file, with the number of bytes to read, 1 byte means a character. After using read(x) with arguments\n",
    "the next character are in place to be read if another read() method is called \n",
    "'''\n",
    "\n",
    "try:\n",
    "    stream = open('file.txt')\n",
    "    print(stream.read(5))\n",
    "    print(stream.read())\n",
    "    stream.close()\n",
    "except Exception as e:\n",
    "    print('Something went wrong:', e)"
   ]
  },
  {
   "cell_type": "code",
   "execution_count": 5,
   "id": "ba34e3c3-fd1c-485f-84cc-c05a42cf8a50",
   "metadata": {},
   "outputs": [
    {
     "name": "stdout",
     "output_type": "stream",
     "text": [
      "PIG is a domestic animal,\n",
      "LION is a wild animal,\n",
      "FOX is a wild animal that is sometimes kept as a pet."
     ]
    }
   ],
   "source": [
    "# Approach to read character by character until reaching the end of the file\n",
    "\n",
    "try:\n",
    "    stream = open('file.txt')\n",
    "    character = stream.read(1)\n",
    "    while character != '':\n",
    "        print(character, end='')\n",
    "        character = stream.read(1)\n",
    "    stream.close()\n",
    "except Exception as e:\n",
    "    print('An error ocurred, e')"
   ]
  },
  {
   "cell_type": "code",
   "execution_count": 6,
   "id": "10d3cf24-af05-482c-b46d-d3a1933a18c7",
   "metadata": {},
   "outputs": [
    {
     "name": "stdout",
     "output_type": "stream",
     "text": [
      "P-I-G- -i-s- -a- -d-o-m-e-s-t-i-c- -a-n-i-m-a-l-,-\n",
      "-L-I-O-N- -i-s- -a- -w-i-l-d- -a-n-i-m-a-l-,-\n",
      "-F-O-X- -i-s- -a- -w-i-l-d- -a-n-i-m-a-l- -t-h-a-t- -i-s- -s-o-m-e-t-i-m-e-s- -k-e-p-t- -a-s- -a- -p-e-t-.-"
     ]
    }
   ],
   "source": [
    "'''\n",
    "# Approach to read character by character until reaching the end of the file\n",
    "and adding a hyphen after each character read.\n",
    "'''\n",
    "\n",
    "try:\n",
    "    stream = open('file.txt')\n",
    "    character = stream.read(1)\n",
    "    while character != '':\n",
    "        print(character, end='-')\n",
    "        character = stream.read(1)\n",
    "    stream.close()\n",
    "except Exception as e:\n",
    "    print('An error ocurred, e')"
   ]
  },
  {
   "cell_type": "code",
   "execution_count": 7,
   "id": "b827a9e2-a651-4735-8c6f-833aa3f014aa",
   "metadata": {},
   "outputs": [
    {
     "name": "stdout",
     "output_type": "stream",
     "text": [
      "P-I-G- -i-s- -a- -d-o-m-e-s-t-i-c- -a-n-i-m-a-l-,-\n",
      "-L-I-O-N- -i-s- -a- -w-i-l-d- -a-n-i-m-a-l-,-\n",
      "-F-O-X- -i-s- -a- -w-i-l-d- -a-n-i-m-a-l- -t-h-a-t- -i-s- -s-o-m-e-t-i-m-e-s- -k-e-p-t- -a-s- -a- -p-e-t-.-\n",
      "Number of characters: 102\n"
     ]
    }
   ],
   "source": [
    "'''\n",
    "# Approach to read character by character until reaching the end of the file\n",
    "and adding a hyphen after each character read printing the value of the counter at the end.\n",
    "'''\n",
    "\n",
    "try:\n",
    "    stream = open('file.txt')\n",
    "    counter = 0\n",
    "    character = stream.read(1)\n",
    "    while character != '':\n",
    "        counter += 1\n",
    "        print(character, end='-')\n",
    "        character = stream.read(1)\n",
    "    stream.close()\n",
    "    print('\\nNumber of characters:', counter)\n",
    "except Exception as e:\n",
    "    print('An error ocurred, e') "
   ]
  },
  {
   "cell_type": "code",
   "execution_count": 8,
   "id": "e4c0b5c3-5b74-4710-884e-1f8d6e67d09e",
   "metadata": {},
   "outputs": [
    {
     "name": "stdout",
     "output_type": "stream",
     "text": [
      "PIG is a domestic animal,\n",
      "LION is a wild animal,\n",
      "FOX is a wild animal that is sometimes kept as a pet.\n",
      "Number of lines: 3\n"
     ]
    }
   ],
   "source": [
    "'''\n",
    "# Approach to read line by line until reaching the end of the file.\n",
    "'''\n",
    "\n",
    "try:\n",
    "    stream = open('file.txt')\n",
    "    counter = 0\n",
    "    line = stream.readline()\n",
    "    while line != '':\n",
    "        counter += 1\n",
    "        print(line, end='')\n",
    "        line = stream.readline()\n",
    "    stream.close()\n",
    "    print('\\nNumber of lines:', counter)\n",
    "except Exception as e:\n",
    "    print('An error ocurred, e') "
   ]
  },
  {
   "cell_type": "code",
   "execution_count": 14,
   "id": "be176a73-b327-414d-9018-374994916f45",
   "metadata": {},
   "outputs": [
    {
     "name": "stdout",
     "output_type": "stream",
     "text": [
      "Content of the string list returned:\n",
      "['PIG is a domestic animal,\\n', 'LION is a wild animal,\\n', 'FOX is a wild animal that is sometimes kept as a pet.']\n",
      "\n",
      "Number of lines: 3\n",
      "\n",
      "Printing each line of the string list:\n",
      "PIG is a domestic animal,\n",
      "LION is a wild animal,\n",
      "FOX is a wild animal that is sometimes kept as a pet."
     ]
    }
   ],
   "source": [
    "'''\n",
    "# Approach to read the specified lines and return them into a list of strings.\n",
    "\n",
    "If no lines are specified all the lines will be returned into the string list.\n",
    "'''\n",
    "\n",
    "try:\n",
    "    stream = open('file.txt')\n",
    "    lines_list = stream.readlines()\n",
    "    print('Content of the string list returned:', lines_list, sep='\\n')\n",
    "    stream.close()\n",
    "    print('\\nNumber of lines:', len(lines_list))\n",
    "except Exception as e:\n",
    "    print('An error ocurred, e') \n",
    "\n",
    "print('\\nPrinting each line of the string list:')\n",
    "for i in lines_list:\n",
    "    print(i, end='')"
   ]
  },
  {
   "cell_type": "code",
   "execution_count": 25,
   "id": "5766b1e0-8735-4e81-8c3b-31481795ee87",
   "metadata": {},
   "outputs": [
    {
     "name": "stdout",
     "output_type": "stream",
     "text": [
      "PIG is a domestic animal,\n",
      "LION is a wild animal,\n",
      "FOX is a wild animal that is sometimes kept as a pet."
     ]
    }
   ],
   "source": [
    "'''\n",
    "# Approach to read the specified lines and return them into a list of strings.\n",
    "\n",
    "If no lines are specified all the lines will be returned into the string list.\n",
    "'''\n",
    "\n",
    "try:\n",
    "    stream = open('file.txt')\n",
    "    lines_list = stream.readlines(2)\n",
    "    while len(lines_list) != 0:\n",
    "        for line in lines_list:\n",
    "            print(line, end='')\n",
    "        lines_list = stream.readlines(2)\n",
    "    stream.close()\n",
    "except Exception as e:\n",
    "    print('An error ocurred, e') \n"
   ]
  },
  {
   "cell_type": "code",
   "execution_count": 28,
   "id": "0158e7bb-d176-4aab-8426-3de8deaf80a9",
   "metadata": {},
   "outputs": [
    {
     "name": "stdout",
     "output_type": "stream",
     "text": [
      "PIG is a domestic animal,\n",
      "LION is a wild animal,\n",
      "FOX is a wild animal that is sometimes kept as a pet."
     ]
    }
   ],
   "source": [
    "try:\n",
    "    stream = open('file.txt')\n",
    "    for line in stream:\n",
    "        print(line, end='')\n",
    "except Exception as e:\n",
    "    print('Something went wrong:', e)"
   ]
  }
 ],
 "metadata": {
  "kernelspec": {
   "display_name": "Python 3 (ipykernel)",
   "language": "python",
   "name": "python3"
  },
  "language_info": {
   "codemirror_mode": {
    "name": "ipython",
    "version": 3
   },
   "file_extension": ".py",
   "mimetype": "text/x-python",
   "name": "python",
   "nbconvert_exporter": "python",
   "pygments_lexer": "ipython3",
   "version": "3.12.3"
  }
 },
 "nbformat": 4,
 "nbformat_minor": 5
}
