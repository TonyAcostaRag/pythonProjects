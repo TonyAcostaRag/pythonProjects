{
 "cells": [
  {
   "cell_type": "code",
   "execution_count": 6,
   "id": "cdeb0b68-5e9a-4a05-bae1-dbdd5a47c58a",
   "metadata": {},
   "outputs": [],
   "source": [
    "# Example with printing the Exception object\n",
    "\n",
    "def return_bigger_object(a, b):\n",
    "    try:\n",
    "        if b > a:\n",
    "            return b\n",
    "        elif a > b:\n",
    "            return a\n",
    "    except Exception as e:\n",
    "        print(e)\n",
    "        return None"
   ]
  },
  {
   "cell_type": "code",
   "execution_count": 7,
   "id": "b3a572fd-5a9a-4cd5-b88f-7b69f616d695",
   "metadata": {},
   "outputs": [],
   "source": [
    "# Without printing the exception object\n",
    "\n",
    "def return_bigger(a, b):\n",
    "    try:\n",
    "        if b > a:\n",
    "            return b\n",
    "        elif a > b:\n",
    "            return a\n",
    "    except:\n",
    "        print('Something went wrong!')"
   ]
  },
  {
   "cell_type": "code",
   "execution_count": 4,
   "id": "56f13574-5a7e-4d79-a9b2-1ca9c0e69462",
   "metadata": {},
   "outputs": [
    {
     "name": "stdout",
     "output_type": "stream",
     "text": [
      "'>' not supported between instances of 'int' and 'str'\n"
     ]
    }
   ],
   "source": [
    "return_bigger_object('a', 5)"
   ]
  },
  {
   "cell_type": "code",
   "execution_count": 5,
   "id": "9c8ca1c9-2504-4a58-87b6-03ed320ea90d",
   "metadata": {},
   "outputs": [
    {
     "name": "stdout",
     "output_type": "stream",
     "text": [
      "Something went wrong!\n"
     ]
    }
   ],
   "source": [
    "return_bigger('a', 5)"
   ]
  },
  {
   "cell_type": "code",
   "execution_count": 12,
   "id": "22fd22d2-ab1d-4d2e-9a68-d00474e0ed1b",
   "metadata": {},
   "outputs": [
    {
     "name": "stdout",
     "output_type": "stream",
     "text": [
      "BaseExceptionGroup\n",
      "Exception\n",
      "GeneratorExit\n",
      "KeyboardInterrupt\n",
      "SystemExit\n",
      "CancelledError\n"
     ]
    }
   ],
   "source": [
    "for subclass in BaseException.__subclasses__():\n",
    "    print(subclass.__name__)"
   ]
  },
  {
   "cell_type": "code",
   "execution_count": 13,
   "id": "ef93981f-748d-4406-8fa0-58ae2da554b2",
   "metadata": {},
   "outputs": [
    {
     "name": "stdout",
     "output_type": "stream",
     "text": [
      "()\n"
     ]
    }
   ],
   "source": [
    "try:\n",
    "    raise Exception\n",
    "except Exception as e:\n",
    "    print(e.args)"
   ]
  },
  {
   "cell_type": "code",
   "execution_count": 14,
   "id": "901d86f9-9656-4d03-afa6-640c4a700fe9",
   "metadata": {},
   "outputs": [
    {
     "name": "stdout",
     "output_type": "stream",
     "text": [
      "('This', 'are', 'the', 'arguments', 'of', 'the', 'exceptions')\n"
     ]
    }
   ],
   "source": [
    "try:\n",
    "    raise Exception('This', 'are', 'the', 'arguments', 'of', 'the', 'exceptions')\n",
    "except Exception as e:\n",
    "    print(e.args)"
   ]
  },
  {
   "cell_type": "code",
   "execution_count": 15,
   "id": "166578e3-da90-4b05-b6bf-22fd2603b176",
   "metadata": {},
   "outputs": [
    {
     "name": "stdout",
     "output_type": "stream",
     "text": [
      "('division by zero',)\n"
     ]
    }
   ],
   "source": [
    "try:\n",
    "    1/0\n",
    "except Exception as e:\n",
    "    print(e.args)"
   ]
  },
  {
   "cell_type": "code",
   "execution_count": 16,
   "id": "538a8407-9a1d-4dfd-87a7-c2eb4f45058e",
   "metadata": {},
   "outputs": [
    {
     "name": "stdout",
     "output_type": "stream",
     "text": [
      "division by zero\n"
     ]
    }
   ],
   "source": [
    "try:\n",
    "    1/0\n",
    "except Exception as e:\n",
    "    print(e)"
   ]
  },
  {
   "cell_type": "code",
   "execution_count": 17,
   "id": "6b84e1b1-f578-42a6-8b6a-ac5d69757874",
   "metadata": {},
   "outputs": [
    {
     "name": "stdout",
     "output_type": "stream",
     "text": [
      "(\"'>' not supported between instances of 'str' and 'int'\",)\n"
     ]
    }
   ],
   "source": [
    "try:\n",
    "    'a' > 5\n",
    "except Exception as e:\n",
    "    print(e.args)"
   ]
  }
 ],
 "metadata": {
  "kernelspec": {
   "display_name": "Python 3 (ipykernel)",
   "language": "python",
   "name": "python3"
  },
  "language_info": {
   "codemirror_mode": {
    "name": "ipython",
    "version": 3
   },
   "file_extension": ".py",
   "mimetype": "text/x-python",
   "name": "python",
   "nbconvert_exporter": "python",
   "pygments_lexer": "ipython3",
   "version": "3.12.1"
  }
 },
 "nbformat": 4,
 "nbformat_minor": 5
}
