{
 "cells": [
  {
   "cell_type": "code",
   "execution_count": 5,
   "id": "705cf769-86d4-4153-8eef-4b377e2aa608",
   "metadata": {},
   "outputs": [],
   "source": [
    "import platform as plat"
   ]
  },
  {
   "cell_type": "code",
   "execution_count": 3,
   "id": "159384ee-8001-42f8-8f8a-dd07d081daae",
   "metadata": {},
   "outputs": [
    {
     "name": "stdout",
     "output_type": "stream",
     "text": [
      "_Processor, _WIN32_CLIENT_RELEASES, _WIN32_SERVER_RELEASES, __builtins__, __cached__, __copyright__, __doc__, __file__, __loader__, __name__, __package__, __spec__, __version__, _comparable_version, _default_architecture, _follow_symlinks, _get_machine_win32, _java_getprop, _mac_ver_xml, _node, _norm_version, _os_release_cache, _os_release_candidates, _parse_os_release, _platform, _platform_cache, _sys_version, _sys_version_cache, _syscmd_file, _syscmd_ver, _uname_cache, _unknown_as_blank, _ver_stages, _win32_ver, _wmi_query, architecture, collections, freedesktop_os_release, functools, itertools, java_ver, libc_ver, mac_ver, machine, node, os, platform, processor, python_branch, python_build, python_compiler, python_implementation, python_revision, python_version, python_version_tuple, re, release, sys, system, system_alias, uname, uname_result, version, win32_edition, win32_is_iot, win32_ver, "
     ]
    }
   ],
   "source": [
    "for i in dir(platform):\n",
    "    print(i, end= ', ')"
   ]
  },
  {
   "cell_type": "code",
   "execution_count": 10,
   "id": "da2a3a8a-6bad-4e4a-828c-05be5baba92f",
   "metadata": {},
   "outputs": [
    {
     "name": "stdout",
     "output_type": "stream",
     "text": [
      "macOS-14.4-arm64-arm-64bit\n",
      "macOS-14.4\n"
     ]
    }
   ],
   "source": [
    "# Function to identify the underlying platform\n",
    "\n",
    "print(plat.platform())\n",
    "print(plat.platform(True, True))"
   ]
  },
  {
   "cell_type": "code",
   "execution_count": 12,
   "id": "6f563230-322f-46f1-846a-9dd57661a515",
   "metadata": {},
   "outputs": [
    {
     "name": "stdout",
     "output_type": "stream",
     "text": [
      "arm64\n"
     ]
    }
   ],
   "source": [
    "# Function to return the generic name of the processor that runs the machine.\n",
    "\n",
    "print(plat.machine())"
   ]
  },
  {
   "cell_type": "code",
   "execution_count": 15,
   "id": "8a160f98-a4d3-4abf-bdbc-f9a29cc12f46",
   "metadata": {},
   "outputs": [
    {
     "name": "stdout",
     "output_type": "stream",
     "text": [
      "arm\n"
     ]
    }
   ],
   "source": [
    "# Function to return the real name of the processor\n",
    "\n",
    "print(plat.processor())"
   ]
  },
  {
   "cell_type": "code",
   "execution_count": 16,
   "id": "d69ac4e8-9b9b-4a76-9171-1650b8fc0cdd",
   "metadata": {},
   "outputs": [
    {
     "name": "stdout",
     "output_type": "stream",
     "text": [
      "Darwin\n"
     ]
    }
   ],
   "source": [
    "# Function to return the ganeric Operating System name\n",
    "\n",
    "print(plat.system())"
   ]
  },
  {
   "cell_type": "code",
   "execution_count": 17,
   "id": "6b7bee8f-4645-4d68-b064-f76c8abadcfb",
   "metadata": {},
   "outputs": [
    {
     "name": "stdout",
     "output_type": "stream",
     "text": [
      "CPython\n"
     ]
    }
   ],
   "source": [
    "# Function to return the python implementation normally written in C language\n",
    "\n",
    "print(plat.python_implementation())"
   ]
  },
  {
   "cell_type": "code",
   "execution_count": 20,
   "id": "29d710a2-455a-49e2-bb60-d0ed25b2bf47",
   "metadata": {},
   "outputs": [
    {
     "name": "stdout",
     "output_type": "stream",
     "text": [
      "('3', '12', '1')\n"
     ]
    }
   ],
   "source": [
    "# Function to return the Major, minor and patch from version of python\n",
    "\n",
    "print(plat.python_version_tuple())"
   ]
  },
  {
   "cell_type": "code",
   "execution_count": 22,
   "id": "2484d938-7e97-4ba1-8322-378023cf6d9d",
   "metadata": {},
   "outputs": [
    {
     "name": "stdout",
     "output_type": "stream",
     "text": [
      "Darwin Kernel Version 23.4.0: Wed Feb 21 21:44:43 PST 2024; root:xnu-10063.101.15~2/RELEASE_ARM64_T6000\n"
     ]
    }
   ],
   "source": [
    "# Function to return the system's release version\n",
    "\n",
    "print(plat.version())"
   ]
  }
 ],
 "metadata": {
  "kernelspec": {
   "display_name": "Python 3 (ipykernel)",
   "language": "python",
   "name": "python3"
  },
  "language_info": {
   "codemirror_mode": {
    "name": "ipython",
    "version": 3
   },
   "file_extension": ".py",
   "mimetype": "text/x-python",
   "name": "python",
   "nbconvert_exporter": "python",
   "pygments_lexer": "ipython3",
   "version": "3.12.1"
  }
 },
 "nbformat": 4,
 "nbformat_minor": 5
}
