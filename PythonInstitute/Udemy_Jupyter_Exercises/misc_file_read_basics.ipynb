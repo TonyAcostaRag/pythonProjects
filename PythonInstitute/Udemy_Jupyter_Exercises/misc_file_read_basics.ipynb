{
 "cells": [
  {
   "cell_type": "code",
   "execution_count": 6,
   "id": "b4857628-42e2-4bde-89f0-eb930706a99c",
   "metadata": {},
   "outputs": [
    {
     "name": "stdout",
     "output_type": "stream",
     "text": [
      "Something went wrong: [Errno 2] No such file or directory: 'file_.txt'\n"
     ]
    }
   ],
   "source": [
    "# Executing the cell before adding the file\n",
    "\n",
    "try:\n",
    "    stream = open('file_.txt')\n",
    "    stream.close()\n",
    "except Exception as e:\n",
    "    print('Something went wrong:', e)"
   ]
  },
  {
   "cell_type": "code",
   "execution_count": 5,
   "id": "c6dad88a-e423-4380-870d-a039d16848eb",
   "metadata": {},
   "outputs": [],
   "source": [
    "# Executing the cell after adding the file\n",
    "\n",
    "try:\n",
    "    stream = open('file.txt')\n",
    "    stream.close()\n",
    "except Exception as e:\n",
    "    print('Something went wrong:', e)"
   ]
  },
  {
   "cell_type": "code",
   "execution_count": 8,
   "id": "e1f22a74-fb64-4f10-a646-34866f4d303c",
   "metadata": {},
   "outputs": [
    {
     "name": "stdout",
     "output_type": "stream",
     "text": [
      "PIG is a domestic animal\n",
      "LION is a wild animal\n",
      "FOX is a wild animal that is sometimes kept as a pet\n"
     ]
    }
   ],
   "source": [
    "# Using functions to interact with the file\n",
    "\n",
    "# read() without arguments read the whole file\n",
    "\n",
    "try:\n",
    "    stream = open('file.txt')\n",
    "    print(stream.read())\n",
    "    stream.close()\n",
    "except Exception as e:\n",
    "    print('Something went wrong:', e)"
   ]
  },
  {
   "cell_type": "code",
   "execution_count": 10,
   "id": "134f471e-7460-46f4-852e-4cdccadb7689",
   "metadata": {},
   "outputs": [
    {
     "name": "stdout",
     "output_type": "stream",
     "text": [
      "PIG i\n",
      "s a domestic animal\n",
      "LION is a wild animal\n",
      "FOX is a wild animal that is sometimes kept as a pet\n"
     ]
    }
   ],
   "source": [
    "'''\n",
    "# Using functions to interact with the file\n",
    "\n",
    "# read(5) with arguments read the whole file, with the number of bytes to read, 1 byte means a character. After using read(x) with arguments\n",
    "the next character are in place to be read if another read() method is called \n",
    "'''\n",
    "\n",
    "try:\n",
    "    stream = open('file.txt')\n",
    "    print(stream.read(5))\n",
    "    print(stream.read())\n",
    "    stream.close()\n",
    "except Exception as e:\n",
    "    print('Something went wrong:', e)"
   ]
  },
  {
   "cell_type": "code",
   "execution_count": null,
   "id": "ba34e3c3-fd1c-485f-84cc-c05a42cf8a50",
   "metadata": {},
   "outputs": [],
   "source": [
    "# Approach to read character by character until reaching the end of the file\n",
    "\n",
    "try:\n",
    "    stream = open('file.txt')\n",
    "    character = stream.read(1)\n",
    "    while stream.read(1):\n",
    "        \n",
    "    stream.close()\n",
    "except Exception as e:\n",
    "    print('An error ocurred, e')"
   ]
  }
 ],
 "metadata": {
  "kernelspec": {
   "display_name": "Python 3 (ipykernel)",
   "language": "python",
   "name": "python3"
  },
  "language_info": {
   "codemirror_mode": {
    "name": "ipython",
    "version": 3
   },
   "file_extension": ".py",
   "mimetype": "text/x-python",
   "name": "python",
   "nbconvert_exporter": "python",
   "pygments_lexer": "ipython3",
   "version": "3.12.1"
  }
 },
 "nbformat": 4,
 "nbformat_minor": 5
}
