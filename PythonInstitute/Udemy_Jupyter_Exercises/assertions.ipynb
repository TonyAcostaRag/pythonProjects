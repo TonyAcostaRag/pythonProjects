{
 "cells": [
  {
   "cell_type": "code",
   "execution_count": 4,
   "id": "9ce6894a-df25-4fa2-9fb4-86c5c596921a",
   "metadata": {},
   "outputs": [],
   "source": [
    "# Assertions are assumtions in our program that should always be true.\n",
    "# Are useful when testing and debugging the code, also for documenting the code.\n",
    "\n",
    "# DO NOT\n",
    "# do not validate user input \n",
    "# do not handle errors with assertions\n",
    "\n",
    "def calculare_inverse(number):\n",
    "    assert (number != 0), 'Got 0 as number'\n",
    "    return 1/number"
   ]
  },
  {
   "cell_type": "code",
   "execution_count": 5,
   "id": "c0f4ee83-1de3-4366-bc2c-168a04a595f6",
   "metadata": {},
   "outputs": [
    {
     "data": {
      "text/plain": [
       "0.1"
      ]
     },
     "execution_count": 5,
     "metadata": {},
     "output_type": "execute_result"
    }
   ],
   "source": [
    "calculare_inverse(10)"
   ]
  },
  {
   "cell_type": "code",
   "execution_count": 6,
   "id": "37bad9e3-b2d8-4694-8bf0-504a31356fd8",
   "metadata": {},
   "outputs": [
    {
     "ename": "AssertionError",
     "evalue": "Got 0 as number",
     "output_type": "error",
     "traceback": [
      "\u001b[0;31m---------------------------------------------------------------------------\u001b[0m",
      "\u001b[0;31mAssertionError\u001b[0m                            Traceback (most recent call last)",
      "Cell \u001b[0;32mIn[6], line 1\u001b[0m\n\u001b[0;32m----> 1\u001b[0m \u001b[43mcalculare_inverse\u001b[49m\u001b[43m(\u001b[49m\u001b[38;5;241;43m0\u001b[39;49m\u001b[43m)\u001b[49m\n",
      "Cell \u001b[0;32mIn[4], line 9\u001b[0m, in \u001b[0;36mcalculare_inverse\u001b[0;34m(number)\u001b[0m\n\u001b[1;32m      8\u001b[0m \u001b[38;5;28;01mdef\u001b[39;00m \u001b[38;5;21mcalculare_inverse\u001b[39m(number):\n\u001b[0;32m----> 9\u001b[0m     \u001b[38;5;28;01massert\u001b[39;00m (number \u001b[38;5;241m!=\u001b[39m \u001b[38;5;241m0\u001b[39m), \u001b[38;5;124m'\u001b[39m\u001b[38;5;124mGot 0 as number\u001b[39m\u001b[38;5;124m'\u001b[39m\n\u001b[1;32m     10\u001b[0m     \u001b[38;5;28;01mreturn\u001b[39;00m \u001b[38;5;241m1\u001b[39m\u001b[38;5;241m/\u001b[39mnumber\n",
      "\u001b[0;31mAssertionError\u001b[0m: Got 0 as number"
     ]
    }
   ],
   "source": [
    "calculare_inverse(0)"
   ]
  }
 ],
 "metadata": {
  "kernelspec": {
   "display_name": "Python 3 (ipykernel)",
   "language": "python",
   "name": "python3"
  },
  "language_info": {
   "codemirror_mode": {
    "name": "ipython",
    "version": 3
   },
   "file_extension": ".py",
   "mimetype": "text/x-python",
   "name": "python",
   "nbconvert_exporter": "python",
   "pygments_lexer": "ipython3",
   "version": "3.12.1"
  }
 },
 "nbformat": 4,
 "nbformat_minor": 5
}
