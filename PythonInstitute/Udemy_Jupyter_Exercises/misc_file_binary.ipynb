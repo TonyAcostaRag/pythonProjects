{
 "cells": [
  {
   "cell_type": "code",
   "execution_count": 19,
   "id": "016c9d7b-efc9-420e-a7eb-d2089cc09d47",
   "metadata": {},
   "outputs": [
    {
     "name": "stdout",
     "output_type": "stream",
     "text": [
      "bytearray(b'\\x00\\x00\\x00\\x00\\x00\\x00\\x00\\x00\\x00\\x00\\x00\\x00\\x00\\x00\\x00\\x00\\x00\\x00\\x00\\x00\\x00\\x00\\x00\\x00\\x00\\x00\\x00\\x00\\x00\\x00\\x00\\x00\\x00\\x00\\x00\\x00\\x00\\x00\\x00\\x00\\x00\\x00\\x00\\x00\\x00\\x00\\x00\\x00\\x00\\x00')\n",
      "bytearray(b'\\x01\\xff\\x00\\x00\\x00\\x00\\x00\\x00\\x00\\x00\\x00\\x00\\x00\\x00\\x00\\x00\\x00\\x00\\x00\\x00\\x00\\x00\\x00\\x00\\x00\\x00\\x00\\x00\\x00\\x00\\x00\\x00\\x00\\x00\\x00\\x00\\x00\\x00\\x00\\x00\\x00\\x00\\x00\\x00\\x00\\x00\\x00\\x00\\x00\\x00')\n"
     ]
    }
   ],
   "source": [
    "'''\n",
    "# Cantainers for sequences of bytes\n",
    "\n",
    "bytearray -> Similar to python list. Any other out of this range will fail.\n",
    "'''\n",
    "\n",
    "data = bytearray(50)\n",
    "print(data)\n",
    "\n",
    "data[0] = 1\n",
    "data[1] = 255\n",
    "print(data)"
   ]
  },
  {
   "cell_type": "code",
   "execution_count": 20,
   "id": "e88ecb58-30f0-4f29-8cc1-f2301ad4213e",
   "metadata": {},
   "outputs": [],
   "source": [
    "# Writting the content of data into a binary file.\n",
    "\n",
    "try:\n",
    "    stream = open('file.bin', 'wb')\n",
    "    stream.write(data)\n",
    "    stream.close()\n",
    "except Exception as e:\n",
    "    print('An error ocurred!', e)"
   ]
  },
  {
   "cell_type": "code",
   "execution_count": 21,
   "id": "733ecd6f-b051-4b09-bc6c-425c09e85529",
   "metadata": {},
   "outputs": [
    {
     "name": "stdout",
     "output_type": "stream",
     "text": [
      "b'\\x01\\xff\\x00\\x00\\x00\\x00\\x00\\x00\\x00\\x00\\x00\\x00\\x00\\x00\\x00\\x00\\x00\\x00\\x00\\x00\\x00\\x00\\x00\\x00\\x00\\x00\\x00\\x00\\x00\\x00\\x00\\x00\\x00\\x00\\x00\\x00\\x00\\x00\\x00\\x00\\x00\\x00\\x00\\x00\\x00\\x00\\x00\\x00\\x00\\x00'\n"
     ]
    }
   ],
   "source": [
    "# Reading the content of the binary file\n",
    "\n",
    "try:\n",
    "    stream = open('file.bin', 'rb')\n",
    "    byte_array = stream.read()\n",
    "    stream.close()\n",
    "except Exception as e:\n",
    "    print('An error ocurred!', e)\n",
    "\n",
    "print(byte_array)"
   ]
  },
  {
   "cell_type": "code",
   "execution_count": 22,
   "id": "5129e987-41b6-4e93-966f-dfa3070cb816",
   "metadata": {},
   "outputs": [
    {
     "name": "stdout",
     "output_type": "stream",
     "text": [
      "0x1, 0xff, 0x0, 0x0, 0x0, 0x0, 0x0, 0x0, 0x0, 0x0, 0x0, 0x0, 0x0, 0x0, 0x0, 0x0, 0x0, 0x0, 0x0, 0x0, 0x0, 0x0, 0x0, 0x0, 0x0, 0x0, 0x0, 0x0, 0x0, 0x0, 0x0, 0x0, 0x0, 0x0, 0x0, 0x0, 0x0, 0x0, 0x0, 0x0, 0x0, 0x0, 0x0, 0x0, 0x0, 0x0, 0x0, 0x0, 0x0, 0x0, "
     ]
    }
   ],
   "source": [
    "# Reading the read content of the binary file as hexadecimnal.\n",
    "\n",
    "for byte in byte_array:\n",
    "    print(hex(byte), end=', ')"
   ]
  },
  {
   "cell_type": "code",
   "execution_count": 23,
   "id": "5cb403ef-7ac5-431b-b399-1dbb5c1d0db3",
   "metadata": {},
   "outputs": [
    {
     "name": "stdout",
     "output_type": "stream",
     "text": [
      "1, 255, 0, 0, 0, 0, 0, 0, 0, 0, 0, 0, 0, 0, 0, 0, 0, 0, 0, 0, 0, 0, 0, 0, 0, 0, 0, 0, 0, 0, 0, 0, 0, 0, 0, 0, 0, 0, 0, 0, 0, 0, 0, 0, 0, 0, 0, 0, 0, 0, "
     ]
    }
   ],
   "source": [
    "# Reading the read content of the binary file as decimal.\n",
    "\n",
    "for byte in byte_array:\n",
    "    print(int(byte), end=', ')"
   ]
  },
  {
   "cell_type": "code",
   "execution_count": 31,
   "id": "29510970-5c69-48d9-9f7e-fb61a9d5398c",
   "metadata": {},
   "outputs": [
    {
     "name": "stdout",
     "output_type": "stream",
     "text": [
      "b'\\x01\\xff\\x00\\x00\\x00\\x00\\x00\\x00\\x00\\x00'\n"
     ]
    }
   ],
   "source": [
    "# Approach to limit the amount of bytes to read from a binary file.\n",
    "\n",
    "try:\n",
    "    stream = open('file.bin', 'rb')\n",
    "    byte_array = stream.read(10)\n",
    "\n",
    "    \n",
    "    print(byte_array)\n",
    "except Exception as e:\n",
    "    print('An error ocurred!', e)\n",
    "\n",
    "    "
   ]
  },
  {
   "cell_type": "code",
   "execution_count": 32,
   "id": "40e5d572-92a6-4c9d-b293-c8ffb53930e2",
   "metadata": {},
   "outputs": [
    {
     "name": "stdout",
     "output_type": "stream",
     "text": [
      "bytearray(b'\\x01\\xff\\x00\\x00\\x00\\x00\\x00\\x00\\x00\\x00\\x00\\x00\\x00\\x00\\x00\\x00\\x00\\x00\\x00\\x00\\x00\\x00\\x00\\x00\\x00\\x00\\x00\\x00\\x00\\x00\\x00\\x00\\x00\\x00\\x00\\x00\\x00\\x00\\x00\\x00\\x00\\x00\\x00\\x00\\x00\\x00\\x00\\x00\\x00\\x00')\n"
     ]
    }
   ],
   "source": [
    "# Creating a bytearray class instead of a bytes class\n",
    "\n",
    "try:\n",
    "    stream = open('file.bin', 'rb')\n",
    "    my_bytearray = bytearray(stream.read())\n",
    "    stream.close()\n",
    "except Exception as e:\n",
    "    print('An error ocurred!', e)\n",
    "\n",
    "print(my_bytearray)"
   ]
  },
  {
   "cell_type": "code",
   "execution_count": 36,
   "id": "28ebe846-381c-46ac-bfeb-71f845255ac7",
   "metadata": {},
   "outputs": [
    {
     "name": "stdout",
     "output_type": "stream",
     "text": [
      "50\n"
     ]
    }
   ],
   "source": [
    "# When having a byte array created manually you can read it like this\n",
    "\n",
    "try:\n",
    "    stream = open('file.bin', 'rb')\n",
    "    my_bytearray = stream.readinto(data)\n",
    "    stream.close()\n",
    "except Exception as e:\n",
    "    print('An error ocurred!', e)\n",
    "\n",
    "print(my_bytearray)\n"
   ]
  }
 ],
 "metadata": {
  "kernelspec": {
   "display_name": "Python 3 (ipykernel)",
   "language": "python",
   "name": "python3"
  },
  "language_info": {
   "codemirror_mode": {
    "name": "ipython",
    "version": 3
   },
   "file_extension": ".py",
   "mimetype": "text/x-python",
   "name": "python",
   "nbconvert_exporter": "python",
   "pygments_lexer": "ipython3",
   "version": "3.12.3"
  }
 },
 "nbformat": 4,
 "nbformat_minor": 5
}
