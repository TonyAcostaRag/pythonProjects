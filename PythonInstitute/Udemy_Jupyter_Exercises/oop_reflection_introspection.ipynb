{
 "cells": [
  {
   "cell_type": "code",
   "execution_count": 1,
   "id": "bfcc290a-117f-49e2-a826-081da78878f1",
   "metadata": {},
   "outputs": [],
   "source": [
    "# Introspetion: Ability of a program to check the type of an object or its properties at runtime.\n",
    "\n",
    "# Reflection: Ability of a program to change the properties or methods of an object runtime.\n",
    "\n",
    "def empty_strings(user_object):\n",
    "    for prop_name in user_object.__dict__.keys():\n",
    "        prop_value = getattr(user_object, prop_name)\n",
    "        if isinstance(prop_value, str):\n",
    "            setattr(user_object, prop_name, '')"
   ]
  },
  {
   "cell_type": "code",
   "execution_count": 2,
   "id": "1c640821-cecf-4571-ba47-9bd15d701881",
   "metadata": {},
   "outputs": [],
   "source": [
    "class Doctor:\n",
    "    def __init__(self, firstname='ConfidentialName', lastname='ConfidentialLastName'):\n",
    "        self.firstname = firstname\n",
    "        self.lastname = lastname\n",
    "        self.__format_names()\n",
    "\n",
    "    def __format_names(self):\n",
    "        self.firstname = self.firstname.title()\n",
    "        self.lastname = self.lastname.title()\n",
    "\n",
    "    def introduce(self):\n",
    "        print('Hi, I\\'m', self.firstname)\n",
    "\n",
    "    def compare_name(self, name_to_compare):\n",
    "        if self.firstname == name_to_compare:\n",
    "            print('We have the same name!')\n",
    "        else:\n",
    "            print('Sorry my name is different')\n",
    "\n",
    "    def get_first_last_name_together(self):\n",
    "        return self.firstname + ' ' + self.lastname\n",
    "\n",
    "    def __str__(self):\n",
    "        return 'doctor ' + self.firstname"
   ]
  },
  {
   "cell_type": "code",
   "execution_count": 3,
   "id": "114fc740-9e0c-4d3c-93d7-8b90951f28ff",
   "metadata": {},
   "outputs": [
    {
     "name": "stdout",
     "output_type": "stream",
     "text": [
      "Hi, I'm Alexander\n"
     ]
    }
   ],
   "source": [
    "doc_Alex = Doctor('Alexander', 'Smith')\n",
    "doc_Alex.introduce()"
   ]
  },
  {
   "cell_type": "code",
   "execution_count": 4,
   "id": "0583a525-afe6-4fd1-bc70-4bd5c88914f5",
   "metadata": {},
   "outputs": [
    {
     "name": "stdout",
     "output_type": "stream",
     "text": [
      "Hi, I'm \n"
     ]
    }
   ],
   "source": [
    "empty_strings(doc_Alex)\n",
    "doc_Alex.introduce()"
   ]
  }
 ],
 "metadata": {
  "kernelspec": {
   "display_name": "Python 3 (ipykernel)",
   "language": "python",
   "name": "python3"
  },
  "language_info": {
   "codemirror_mode": {
    "name": "ipython",
    "version": 3
   },
   "file_extension": ".py",
   "mimetype": "text/x-python",
   "name": "python",
   "nbconvert_exporter": "python",
   "pygments_lexer": "ipython3",
   "version": "3.12.1"
  }
 },
 "nbformat": 4,
 "nbformat_minor": 5
}
