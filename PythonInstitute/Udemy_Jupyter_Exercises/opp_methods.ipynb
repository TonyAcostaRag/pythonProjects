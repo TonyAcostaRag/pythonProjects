{
 "cells": [
  {
   "cell_type": "code",
   "execution_count": 13,
   "id": "0517ce6d-ddc4-434c-9335-2e7aabd70e85",
   "metadata": {},
   "outputs": [
    {
     "name": "stdout",
     "output_type": "stream",
     "text": [
      "Hi, I'm Alexander\n",
      "Sorry my name is different\n",
      "{'firstname': 'Alexander', 'lastname': 'Smitth'}\n",
      "{'__module__': '__main__', '__init__': <function Doctor.__init__ at 0x107bc5940>, '_Doctor__format_names': <function Doctor.__format_names at 0x107bc6480>, 'introduce': <function Doctor.introduce at 0x107bc7740>, 'compare_name': <function Doctor.compare_name at 0x107bc7f60>, 'get_first_last_name_together': <function Doctor.get_first_last_name_together at 0x107bfc040>, '__str__': <function Doctor.__str__ at 0x107bfc0e0>, '__dict__': <attribute '__dict__' of 'Doctor' objects>, '__weakref__': <attribute '__weakref__' of 'Doctor' objects>, '__doc__': None}\n"
     ]
    }
   ],
   "source": [
    "# Method recap: A method is a function within a class.\n",
    "\n",
    "class Doctor:\n",
    "    def __init__(self, firstname='ConfidentialName', lastname='ConfidentialLastName'):\n",
    "        self.firstname = firstname\n",
    "        self.lastname = lastname\n",
    "        self.__format_names()\n",
    "\n",
    "    def __format_names(self):\n",
    "        self.firstname = self.firstname.title()\n",
    "        self.lastname = self.lastname.title()\n",
    "\n",
    "    def introduce(self):\n",
    "        print('Hi, I\\'m', self.firstname)\n",
    "\n",
    "    def compare_name(self, name_to_compare):\n",
    "        if self.firstname == name_to_compare:\n",
    "            print('We have the same name!')\n",
    "        else:\n",
    "            print('Sorry my name is different')\n",
    "\n",
    "    def get_first_last_name_together(self):\n",
    "        return self.firstname + ' ' + self.lastname\n",
    "\n",
    "    def __str__(self):\n",
    "        return 'doctor ' + self.firstname\n",
    "        \n",
    "\n",
    "doc_Alex = Doctor('aLExanDer', 'smITth')\n",
    "doc_Alex.introduce()\n",
    "doc_Alex.compare_name('alex')\n",
    "\n",
    "print(doc_Alex.__dict__)\n",
    "print(Doctor.__dict__)"
   ]
  },
  {
   "cell_type": "code",
   "execution_count": 12,
   "id": "e571245e-5634-4e37-9f6b-30eed699b47c",
   "metadata": {},
   "outputs": [
    {
     "name": "stdout",
     "output_type": "stream",
     "text": [
      "<__main__.Doctor object at 0x107bbf8c0>\n"
     ]
    }
   ],
   "source": [
    "# code with out __str__ definition\n",
    "print(doc_Alex)"
   ]
  },
  {
   "cell_type": "code",
   "execution_count": 14,
   "id": "0da8fd48-2356-4d74-ba81-fdba1053a57d",
   "metadata": {},
   "outputs": [
    {
     "name": "stdout",
     "output_type": "stream",
     "text": [
      "doctor Alexander\n"
     ]
    }
   ],
   "source": [
    "# code with __str__ definition\n",
    "print(doc_Alex)"
   ]
  },
  {
   "cell_type": "code",
   "execution_count": 8,
   "id": "01761eba-8a76-44a1-82a9-bb70f2c9e66a",
   "metadata": {},
   "outputs": [
    {
     "name": "stdout",
     "output_type": "stream",
     "text": [
      "{'__module__': '__main__', '__dict__': <attribute '__dict__' of 'EmptyClass' objects>, '__weakref__': <attribute '__weakref__' of 'EmptyClass' objects>, '__doc__': None}\n"
     ]
    }
   ],
   "source": [
    "class EmptyClass:\n",
    "    pass\n",
    "\n",
    "emptyClassObject = EmptyClass()\n",
    "print(EmptyClass.__dict__)\n"
   ]
  }
 ],
 "metadata": {
  "kernelspec": {
   "display_name": "Python 3 (ipykernel)",
   "language": "python",
   "name": "python3"
  },
  "language_info": {
   "codemirror_mode": {
    "name": "ipython",
    "version": 3
   },
   "file_extension": ".py",
   "mimetype": "text/x-python",
   "name": "python",
   "nbconvert_exporter": "python",
   "pygments_lexer": "ipython3",
   "version": "3.12.1"
  }
 },
 "nbformat": 4,
 "nbformat_minor": 5
}
