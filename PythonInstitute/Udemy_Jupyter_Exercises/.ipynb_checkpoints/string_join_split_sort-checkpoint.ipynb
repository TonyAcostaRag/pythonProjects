{
 "cells": [
  {
   "cell_type": "code",
   "execution_count": 8,
   "id": "155b50da-3247-4175-9723-28d12c4abba0",
   "metadata": {},
   "outputs": [
    {
     "name": "stdout",
     "output_type": "stream",
     "text": [
      "String1 String2 String3\n"
     ]
    }
   ],
   "source": [
    "# Strings method to join multiple strings.\n",
    "\n",
    "joined_string = ' '.join(['String1', 'String2', 'String3'])\n",
    "print(joined_string)"
   ]
  },
  {
   "cell_type": "code",
   "execution_count": 13,
   "id": "b7a6858d-93eb-4284-a0e5-c89fce8254ab",
   "metadata": {},
   "outputs": [
    {
     "name": "stdout",
     "output_type": "stream",
     "text": [
      "['Space', 'tab', 'newline', 'lastString']\n"
     ]
    }
   ],
   "source": [
    "# Strings method to split strings by white spaces.\n",
    "\n",
    "whitespaces_composed_string = ' Space tab\\tnewline\\nlastString '\n",
    "\n",
    "splited_string_list = whitespaces_composed_string.split()\n",
    "print(splited_string_list)"
   ]
  },
  {
   "cell_type": "code",
   "execution_count": 42,
   "id": "cc1859a3-bada-496e-bc94-51d46bc421fa",
   "metadata": {},
   "outputs": [
    {
     "name": "stdout",
     "output_type": "stream",
     "text": [
      "Printing the sorted new copy of the original list:\n",
      "['Space', 'lastString', 'newline', 'tab']\n",
      "\n",
      "Printing the copy of the original unsorted list:\n",
      "['Space', 'tab', 'newline', 'lastString']\n",
      "\n",
      "Printing the changed copy of the original list with the sorted elements:\n",
      "['Space', 'lastString', 'newline', 'tab']\n"
     ]
    }
   ],
   "source": [
    "# Sorting string list functions.\n",
    "# sorted() -> Parameter a list; function which returns a new list with the strings sorted.\n",
    "# sort() -> Parameterless method which change the order of the original list.\n",
    "\n",
    "sorted_string_list = sorted(splited_string_list)\n",
    "print('Printing the sorted new copy of the original list:')\n",
    "print(sorted_string_list, end='\\n\\n')\n",
    "\n",
    "# Creating a copy of the original unsorted list with list conprehanssion.\n",
    "string_list_copy = [i for i in splited_string_list]\n",
    "print('Printing the copy of the original unsorted list:')\n",
    "print(string_list_copy, end='\\n\\n')\n",
    "\n",
    "string_list_copy.sort()\n",
    "print('Printing the changed copy of the original list with the sorted elements:')\n",
    "print(string_list_copy)\n"
   ]
  }
 ],
 "metadata": {
  "kernelspec": {
   "display_name": "Python 3 (ipykernel)",
   "language": "python",
   "name": "python3"
  },
  "language_info": {
   "codemirror_mode": {
    "name": "ipython",
    "version": 3
   },
   "file_extension": ".py",
   "mimetype": "text/x-python",
   "name": "python",
   "nbconvert_exporter": "python",
   "pygments_lexer": "ipython3",
   "version": "3.12.1"
  }
 },
 "nbformat": 4,
 "nbformat_minor": 5
}
