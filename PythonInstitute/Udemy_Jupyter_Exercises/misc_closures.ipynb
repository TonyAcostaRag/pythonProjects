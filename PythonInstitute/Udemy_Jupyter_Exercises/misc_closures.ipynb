{
 "cells": [
  {
   "cell_type": "code",
   "execution_count": 3,
   "id": "b6ff6336-252b-4c57-be8c-db1a002f4441",
   "metadata": {},
   "outputs": [
    {
     "name": "stdout",
     "output_type": "stream",
     "text": [
      "hello\n"
     ]
    }
   ],
   "source": [
    "# Closure: Function defined inside another function that remembers the values of the outer function \n",
    "\n",
    "def greet(text):\n",
    "\n",
    "    def print_greet():\n",
    "        print(text)\n",
    "\n",
    "    return print_greet\n",
    "\n",
    "\n",
    "say_hello = greet('hello')\n",
    "say_hello()"
   ]
  },
  {
   "cell_type": "code",
   "execution_count": 7,
   "id": "2e44fbe2-80f7-48ef-981c-2931f6d537a5",
   "metadata": {},
   "outputs": [
    {
     "name": "stdout",
     "output_type": "stream",
     "text": [
      "10\n",
      "20\n"
     ]
    }
   ],
   "source": [
    "# A closure which remembers the value of x and when calling the closure, provide the y value on the argument.\n",
    "\n",
    "def make_multiply_closure(x):\n",
    "\n",
    "    def multiply(y):\n",
    "        return x * y\n",
    "    \n",
    "    return multiply\n",
    "\n",
    "\n",
    "multiply_by_5 = make_multiply_closure(5)\n",
    "multiply_by_10 = make_multiply_closure(10)\n",
    "\n",
    "print(multiply_by_5(2))\n",
    "print(multiply_by_10(2))\n",
    "        "
   ]
  }
 ],
 "metadata": {
  "kernelspec": {
   "display_name": "Python 3 (ipykernel)",
   "language": "python",
   "name": "python3"
  },
  "language_info": {
   "codemirror_mode": {
    "name": "ipython",
    "version": 3
   },
   "file_extension": ".py",
   "mimetype": "text/x-python",
   "name": "python",
   "nbconvert_exporter": "python",
   "pygments_lexer": "ipython3",
   "version": "3.12.1"
  }
 },
 "nbformat": 4,
 "nbformat_minor": 5
}
