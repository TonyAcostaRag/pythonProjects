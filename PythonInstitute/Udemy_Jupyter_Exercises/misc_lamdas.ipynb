{
 "cells": [
  {
   "cell_type": "code",
   "execution_count": 11,
   "id": "9840a66d-7d7e-4fe7-881d-c27c1ef6acba",
   "metadata": {},
   "outputs": [],
   "source": [
    "# Assigning lambda function to a variable for testing the lambda\n",
    "\n",
    "power = lambda x: x * x"
   ]
  },
  {
   "cell_type": "code",
   "execution_count": 9,
   "id": "39ceb55d-48ee-41db-ab13-5170b1a2ad52",
   "metadata": {},
   "outputs": [
    {
     "name": "stdout",
     "output_type": "stream",
     "text": [
      "36\n"
     ]
    }
   ],
   "source": [
    "print(f(6))"
   ]
  },
  {
   "cell_type": "code",
   "execution_count": 12,
   "id": "4da99c52-042c-4eab-9761-b69d31c4d1fa",
   "metadata": {},
   "outputs": [
    {
     "name": "stdout",
     "output_type": "stream",
     "text": [
      "1\n",
      "4\n",
      "9\n",
      "16\n",
      "25\n"
     ]
    }
   ],
   "source": [
    "\n",
    "first_ten_numbers = [i for i in range(1, 6)]\n",
    "\n",
    "def apply_func(elements, f):\n",
    "    for element in elements:\n",
    "        print(f(element))\n",
    "\n",
    "\n",
    "apply_func(first_ten_numbers, power)"
   ]
  },
  {
   "cell_type": "code",
   "execution_count": 14,
   "id": "81c4bc9d-f96e-495e-a381-82872e4a7e0d",
   "metadata": {},
   "outputs": [
    {
     "name": "stdout",
     "output_type": "stream",
     "text": [
      "2\n",
      "4\n",
      "6\n",
      "8\n",
      "10\n"
     ]
    }
   ],
   "source": [
    "\n",
    "first_ten_numbers = [i for i in range(1, 6)]\n",
    "\n",
    "def apply_func(elements, func):\n",
    "    for element in elements:\n",
    "        print(func(element))\n",
    "\n",
    "\n",
    "apply_func(first_ten_numbers, lambda x: x * 2)"
   ]
  }
 ],
 "metadata": {
  "kernelspec": {
   "display_name": "Python 3 (ipykernel)",
   "language": "python",
   "name": "python3"
  },
  "language_info": {
   "codemirror_mode": {
    "name": "ipython",
    "version": 3
   },
   "file_extension": ".py",
   "mimetype": "text/x-python",
   "name": "python",
   "nbconvert_exporter": "python",
   "pygments_lexer": "ipython3",
   "version": "3.12.1"
  }
 },
 "nbformat": 4,
 "nbformat_minor": 5
}
