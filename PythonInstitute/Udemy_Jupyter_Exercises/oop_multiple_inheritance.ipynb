{
 "cells": [
  {
   "cell_type": "code",
   "execution_count": 82,
   "id": "133f024f-279a-49a6-ad34-162f852c8e81",
   "metadata": {},
   "outputs": [],
   "source": [
    "class Vehicle:\n",
    "    def drive(self):\n",
    "        print('Driving')\n",
    "\n",
    "    def show_power_type(self):\n",
    "        print('As a(n)', type(self).__name__, 'my power is:')\n",
    "\n",
    "    def introduce(self):\n",
    "        print('I\\'m a vehicle')"
   ]
  },
  {
   "cell_type": "code",
   "execution_count": 83,
   "id": "e723da97-a7dd-40ac-8e61-a62b672b2bf2",
   "metadata": {},
   "outputs": [],
   "source": [
    "class Flayable:\n",
    "    def fly(self):\n",
    "        print('Flying')\n",
    "\n",
    "    def introduce(self):\n",
    "        print('I\\'m a flayable')"
   ]
  },
  {
   "cell_type": "code",
   "execution_count": 84,
   "id": "fc88ae76-c521-4bda-95fa-f7cc17bc54fc",
   "metadata": {},
   "outputs": [],
   "source": [
    "class ElectricVehicle:\n",
    "    def __str__(self):\n",
    "        return 'Electric vehicle instantiated'\n",
    "    \n",
    "    def show_power_type(self):\n",
    "        print('As a(n)', type(self).__name__, 'my power is:', 'Electric')"
   ]
  },
  {
   "cell_type": "code",
   "execution_count": 85,
   "id": "ae5cd848-6a9a-44c3-aee9-35cb1ab0a70f",
   "metadata": {},
   "outputs": [],
   "source": [
    "class PetrolVehicle:\n",
    "    def __str__(self):\n",
    "        return 'Petrol vehicle instantiated'\n",
    "    \n",
    "    def show_power_type(self):\n",
    "        print('As a(n)', type(self).__name__, 'my power is:', 'Gasoline')"
   ]
  },
  {
   "cell_type": "code",
   "execution_count": 86,
   "id": "ef10115d-98a4-44cd-9266-e25312d3a3e9",
   "metadata": {},
   "outputs": [],
   "source": [
    "class Airplane(Vehicle, Flayable):\n",
    "    pass"
   ]
  },
  {
   "cell_type": "code",
   "execution_count": 87,
   "id": "a5c7a998-5ae7-4689-9a71-b06c1e75f625",
   "metadata": {},
   "outputs": [],
   "source": [
    "class HybridCar(ElectricVehicle, PetrolVehicle):\n",
    "    pass"
   ]
  },
  {
   "cell_type": "code",
   "execution_count": 88,
   "id": "c8b71e72-3470-4b45-8449-ec7c17446b12",
   "metadata": {},
   "outputs": [
    {
     "name": "stdout",
     "output_type": "stream",
     "text": [
      "I'm a vehicle\n"
     ]
    }
   ],
   "source": [
    "''' \n",
    "Method Resolution Order MRO: By MRO multiple inheritance, objects find the method with same name of inherited classes \n",
    "from left to right\n",
    "\n",
    "Python MRO:\n",
    "1. Look inside the Object.\n",
    "2. Look in the superclasses from left to right\n",
    "3. Not found, show an error.\n",
    "'''\n",
    "\n",
    "my_plane = Airplane()\n",
    "my_plane.introduce()"
   ]
  },
  {
   "cell_type": "code",
   "execution_count": 89,
   "id": "79e4cceb-4cfe-4d7a-89a3-803ec702281d",
   "metadata": {},
   "outputs": [
    {
     "name": "stdout",
     "output_type": "stream",
     "text": [
      "(<class 'object'>,)\n",
      "(<class 'object'>,)\n",
      "(<class '__main__.Vehicle'>, <class '__main__.Flayable'>)\n"
     ]
    }
   ],
   "source": [
    "print(Vehicle.__bases__)\n",
    "print(Flayable.__bases__)\n",
    "print(Airplane.__bases__)"
   ]
  },
  {
   "cell_type": "code",
   "execution_count": 90,
   "id": "a1130f5b-c849-4165-8eb7-5ce97a1fcda7",
   "metadata": {},
   "outputs": [
    {
     "name": "stdout",
     "output_type": "stream",
     "text": [
      "As a(n) HybridCar my power is: Electric\n",
      "Electric vehicle instantiated\n"
     ]
    }
   ],
   "source": [
    "my_hybrid_car = HybridCar()\n",
    "\n",
    "my_hybrid_car.show_power_type()\n",
    "\n",
    "print(HybridCar())"
   ]
  }
 ],
 "metadata": {
  "kernelspec": {
   "display_name": "Python 3 (ipykernel)",
   "language": "python",
   "name": "python3"
  },
  "language_info": {
   "codemirror_mode": {
    "name": "ipython",
    "version": 3
   },
   "file_extension": ".py",
   "mimetype": "text/x-python",
   "name": "python",
   "nbconvert_exporter": "python",
   "pygments_lexer": "ipython3",
   "version": "3.12.1"
  }
 },
 "nbformat": 4,
 "nbformat_minor": 5
}
