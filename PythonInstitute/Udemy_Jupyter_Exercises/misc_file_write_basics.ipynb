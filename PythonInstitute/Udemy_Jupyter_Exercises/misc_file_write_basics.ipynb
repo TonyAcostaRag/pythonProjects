{
 "cells": [
  {
   "cell_type": "code",
   "execution_count": 21,
   "id": "8697de59-7695-45b4-8238-b423f33495f9",
   "metadata": {},
   "outputs": [],
   "source": [
    "try:\n",
    "    stream = open('newfile.txt', 'w')\n",
    "    stream.write('This is the first message!\\n')\n",
    "    stream.write('This is the second message!')\n",
    "    stream.close\n",
    "except Exception as e:\n",
    "    print('An error ocurred.', e)"
   ]
  },
  {
   "cell_type": "code",
   "execution_count": 19,
   "id": "d075bb01-fdcc-4346-9186-525c9d9945e4",
   "metadata": {},
   "outputs": [],
   "source": [
    "'''\n",
    "After opening the same file with the 'w' second argument it'll erase the content of the\n",
    "file and write the new text in the write method.\n",
    "'''\n",
    "\n",
    "try:\n",
    "    stream = open('newfile.txt', 'w')\n",
    "    stream.write('This is a brand new message!')\n",
    "    stream.close()\n",
    "except Exception as e:\n",
    "    print('An error ocurred.', e)"
   ]
  },
  {
   "cell_type": "code",
   "execution_count": null,
   "id": "75a69c70-df78-4362-b2c4-b76bc50d1a54",
   "metadata": {},
   "outputs": [],
   "source": []
  }
 ],
 "metadata": {
  "kernelspec": {
   "display_name": "Python 3 (ipykernel)",
   "language": "python",
   "name": "python3"
  },
  "language_info": {
   "codemirror_mode": {
    "name": "ipython",
    "version": 3
   },
   "file_extension": ".py",
   "mimetype": "text/x-python",
   "name": "python",
   "nbconvert_exporter": "python",
   "pygments_lexer": "ipython3",
   "version": "3.12.3"
  }
 },
 "nbformat": 4,
 "nbformat_minor": 5
}
