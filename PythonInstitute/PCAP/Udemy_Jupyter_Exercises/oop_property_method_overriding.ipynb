{
 "cells": [
  {
   "cell_type": "code",
   "execution_count": 27,
   "id": "07de07f6-a2fb-404f-a491-9d5b774f0939",
   "metadata": {},
   "outputs": [],
   "source": [
    "class Animal:\n",
    "    def __init__(self):\n",
    "        self.species = 'general'\n",
    "\n",
    "    def produce_sound(self):\n",
    "        print('General Animal Sound')\n",
    "\n",
    "    def present(self):\n",
    "        print('As a(n)',  type(self).__name__, 'I can do the following sound:')\n",
    "        self.produce_sound()\n",
    "\n",
    "class Dog(Animal):\n",
    "    def __init__(self):\n",
    "        self.species = 'Canis familiaris'\n",
    "    \n",
    "    def produce_sound(self):\n",
    "        print('Woof!')"
   ]
  },
  {
   "cell_type": "code",
   "execution_count": 12,
   "id": "30b08eb9-3614-468c-9ebf-a156a82e1838",
   "metadata": {},
   "outputs": [
    {
     "name": "stdout",
     "output_type": "stream",
     "text": [
      "Canis familiaris\n",
      "Woof!\n"
     ]
    }
   ],
   "source": [
    "# Method overriding\n",
    "\n",
    "spike = Dog()\n",
    "\n",
    "print(spike.species)\n",
    "spike.produce_sound()"
   ]
  },
  {
   "cell_type": "code",
   "execution_count": 28,
   "id": "cee7063d-3032-45e3-9c22-00662add7c78",
   "metadata": {},
   "outputs": [
    {
     "name": "stdout",
     "output_type": "stream",
     "text": [
      "As a(n) Animal I can do the following sound:\n",
      "General Animal Sound\n",
      "\n",
      "As a(n) Dog I can do the following sound:\n",
      "Woof!\n"
     ]
    }
   ],
   "source": [
    "animal = Animal()\n",
    "\n",
    "spike = Dog()\n",
    "\n",
    "animal.present()\n",
    "print()\n",
    "spike.present()"
   ]
  }
 ],
 "metadata": {
  "kernelspec": {
   "display_name": "Python 3 (ipykernel)",
   "language": "python",
   "name": "python3"
  },
  "language_info": {
   "codemirror_mode": {
    "name": "ipython",
    "version": 3
   },
   "file_extension": ".py",
   "mimetype": "text/x-python",
   "name": "python",
   "nbconvert_exporter": "python",
   "pygments_lexer": "ipython3",
   "version": "3.12.1"
  }
 },
 "nbformat": 4,
 "nbformat_minor": 5
}
