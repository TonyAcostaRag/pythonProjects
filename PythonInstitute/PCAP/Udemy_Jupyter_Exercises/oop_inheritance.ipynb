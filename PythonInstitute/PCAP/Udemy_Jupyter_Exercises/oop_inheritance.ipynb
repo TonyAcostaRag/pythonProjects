{
 "cells": [
  {
   "cell_type": "code",
   "execution_count": 54,
   "id": "b1e03cdf-919e-4a96-b79a-265269d12952",
   "metadata": {},
   "outputs": [],
   "source": [
    "class Vehicle:\n",
    "\n",
    "    class_message = 'This is a message from Vehicle class'\n",
    "    \n",
    "    def __init__(self, speed):\n",
    "        self.speed = speed\n",
    "\n",
    "\n",
    "class LandVehicle(Vehicle):\n",
    "    def __init__(self, speed, wheel_count):\n",
    "        super().__init__(speed)\n",
    "        self.wheel_count = wheel_count\n",
    "        print(super().class_message)\n",
    "\n",
    "    def speed_up(self):\n",
    "        self.speed += 5\n",
    "\n",
    "\n",
    "class Car(LandVehicle):\n",
    "    def __init__(self, speed, wheel_count, manufacturer):\n",
    "        super().__init__(speed, wheel_count)\n",
    "        self.manufacturer = manufacturer\n",
    "\n",
    "    def super_speed(self):\n",
    "        print('Super speed activated!')\n",
    "        super().speed_up()\n",
    "        super().speed_up()\n",
    "        super().speed_up()\n",
    "        "
   ]
  },
  {
   "cell_type": "code",
   "execution_count": 4,
   "id": "253577ed-4724-4a8f-a297-b7871ade6a5a",
   "metadata": {},
   "outputs": [
    {
     "data": {
      "text/plain": [
       "True"
      ]
     },
     "execution_count": 4,
     "metadata": {},
     "output_type": "execute_result"
    }
   ],
   "source": [
    "issubclass(Car, Vehicle)"
   ]
  },
  {
   "cell_type": "code",
   "execution_count": 6,
   "id": "20e99518-85c4-4c3e-996f-542810085ee6",
   "metadata": {},
   "outputs": [
    {
     "data": {
      "text/plain": [
       "True"
      ]
     },
     "execution_count": 6,
     "metadata": {},
     "output_type": "execute_result"
    }
   ],
   "source": [
    "issubclass(LandVehicle, Vehicle)"
   ]
  },
  {
   "cell_type": "code",
   "execution_count": 7,
   "id": "ff9af2c5-8d3b-48c5-8a59-7a2ae89ae851",
   "metadata": {},
   "outputs": [
    {
     "data": {
      "text/plain": [
       "True"
      ]
     },
     "execution_count": 7,
     "metadata": {},
     "output_type": "execute_result"
    }
   ],
   "source": [
    "issubclass(Car, LandVehicle)"
   ]
  },
  {
   "cell_type": "code",
   "execution_count": 8,
   "id": "f81983de-3381-401d-bc34-295d8cd35b95",
   "metadata": {},
   "outputs": [
    {
     "data": {
      "text/plain": [
       "True"
      ]
     },
     "execution_count": 8,
     "metadata": {},
     "output_type": "execute_result"
    }
   ],
   "source": [
    "issubclass(Car, Car)"
   ]
  },
  {
   "cell_type": "code",
   "execution_count": 60,
   "id": "6460f7fa-6d0c-497d-8391-a340c6a4e1ab",
   "metadata": {},
   "outputs": [
    {
     "name": "stdout",
     "output_type": "stream",
     "text": [
      "This is a message from Vehicle class\n",
      "{'speed': 60, 'wheel_count': 4}\n",
      "{'speed': 65, 'wheel_count': 4}\n",
      "\n",
      "This is a message from Vehicle class\n",
      "{'speed': 50, 'wheel_count': 4, 'manufacturer': 'Nissan'}\n",
      "Super speed activated!\n",
      "{'speed': 65, 'wheel_count': 4, 'manufacturer': 'Nissan'}\n",
      "{'speed': 70, 'wheel_count': 4, 'manufacturer': 'Nissan'}\n"
     ]
    }
   ],
   "source": [
    "my_car = LandVehicle(60, 4)\n",
    "print(my_car.__dict__)\n",
    "my_car.speed_up()\n",
    "print(my_car.__dict__)\n",
    "\n",
    "print()\n",
    "\n",
    "my_other_car = Car(50, 4, 'Nissan')\n",
    "print(my_other_car.__dict__)\n",
    "my_other_car.super_speed()\n",
    "print(my_other_car.__dict__)\n",
    "\n",
    "my_other_car.speed_up()\n",
    "print(my_other_car.__dict__)"
   ]
  },
  {
   "cell_type": "code",
   "execution_count": 62,
   "id": "f7d7c79a-87a8-44f9-9cd9-3b4063ca0cb7",
   "metadata": {},
   "outputs": [
    {
     "name": "stdout",
     "output_type": "stream",
     "text": [
      "This is a message from Vehicle class\n",
      "This is a message from Vehicle class\n"
     ]
    }
   ],
   "source": [
    "my_vehicle = Vehicle(0)\n",
    "\n",
    "my_landVehicle = LandVehicle(0, 4)\n",
    "\n",
    "my_car = Car(0, 4, 'Nissan')"
   ]
  },
  {
   "cell_type": "code",
   "execution_count": 67,
   "id": "72724634-abf3-4fd0-8741-83ffde1f8b94",
   "metadata": {},
   "outputs": [
    {
     "name": "stdout",
     "output_type": "stream",
     "text": [
      "True\n",
      "True\n",
      "True\n"
     ]
    }
   ],
   "source": [
    "print(isinstance(my_vehicle, Vehicle))\n",
    "\n",
    "print(isinstance(my_landVehicle, LandVehicle))\n",
    "\n",
    "print(isinstance(my_car, Car))"
   ]
  },
  {
   "cell_type": "code",
   "execution_count": 76,
   "id": "b1295549-d051-4bfa-9be6-d78069c0639d",
   "metadata": {},
   "outputs": [
    {
     "name": "stdout",
     "output_type": "stream",
     "text": [
      "True\n",
      "([0], [0])\n"
     ]
    }
   ],
   "source": [
    "list_one = [0]\n",
    "list_two = list_one\n",
    "\n",
    "print(list_one is list_two)\n",
    "print((list_one, list_two))"
   ]
  },
  {
   "cell_type": "code",
   "execution_count": 78,
   "id": "d95b6dec-efbd-424c-b8a8-09dbdc2bdf2c",
   "metadata": {},
   "outputs": [
    {
     "name": "stdout",
     "output_type": "stream",
     "text": [
      "True\n",
      "{'speed': 0} {'speed': 0}\n"
     ]
    }
   ],
   "source": [
    "my_second_vehicle = Vehicle(0)\n",
    "\n",
    "copy_vehicle = my_second_vehicle\n",
    "\n",
    "print(my_second_vehicle is copy_vehicle)\n",
    "print(my_second_vehicle.__dict__, copy_vehicle.__dict__)"
   ]
  },
  {
   "cell_type": "code",
   "execution_count": 80,
   "id": "7bf1a31d-a03c-494d-8eca-ce6442b2987c",
   "metadata": {},
   "outputs": [
    {
     "name": "stdout",
     "output_type": "stream",
     "text": [
      "True\n",
      "False\n"
     ]
    }
   ],
   "source": [
    "string_one = 'hello'\n",
    "string_two = 'hello'\n",
    "\n",
    "print(string_one is string_two)\n",
    "\n",
    "string_two = 'hell'\n",
    "string_two += 'o'\n",
    "\n",
    "print(string_one is string_two)"
   ]
  },
  {
   "cell_type": "code",
   "execution_count": 83,
   "id": "e81aad1e-bf6e-4608-9ece-111d7e3ed0e9",
   "metadata": {},
   "outputs": [
    {
     "name": "stdout",
     "output_type": "stream",
     "text": [
      "True\n",
      "False\n",
      "True\n"
     ]
    }
   ],
   "source": [
    "int_one = 1\n",
    "int_two = 1\n",
    "\n",
    "print(int_one is int_two)\n",
    "\n",
    "int_two += 3\n",
    "\n",
    "print(int_one is int_two)\n",
    "\n",
    "int_two -= 3\n",
    "\n",
    "print(int_one is int_two)"
   ]
  }
 ],
 "metadata": {
  "kernelspec": {
   "display_name": "Python 3 (ipykernel)",
   "language": "python",
   "name": "python3"
  },
  "language_info": {
   "codemirror_mode": {
    "name": "ipython",
    "version": 3
   },
   "file_extension": ".py",
   "mimetype": "text/x-python",
   "name": "python",
   "nbconvert_exporter": "python",
   "pygments_lexer": "ipython3",
   "version": "3.12.1"
  }
 },
 "nbformat": 4,
 "nbformat_minor": 5
}
