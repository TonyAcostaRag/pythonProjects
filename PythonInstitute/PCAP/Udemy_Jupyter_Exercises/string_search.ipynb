{
 "cells": [
  {
   "cell_type": "code",
   "execution_count": 21,
   "id": "b8b43f03-92cc-482d-8f45-4a7cb6d29704",
   "metadata": {},
   "outputs": [
    {
     "name": "stdout",
     "output_type": "stream",
     "text": [
      "5\n"
     ]
    },
    {
     "ename": "ValueError",
     "evalue": "substring not found",
     "output_type": "error",
     "traceback": [
      "\u001b[0;31m---------------------------------------------------------------------------\u001b[0m",
      "\u001b[0;31mValueError\u001b[0m                                Traceback (most recent call last)",
      "Cell \u001b[0;32mIn[21], line 7\u001b[0m\n\u001b[1;32m      5\u001b[0m fullname \u001b[38;5;241m=\u001b[39m \u001b[38;5;124m'\u001b[39m\u001b[38;5;124mAntonio Acosta Flores\u001b[39m\u001b[38;5;124m'\u001b[39m\n\u001b[1;32m      6\u001b[0m \u001b[38;5;28mprint\u001b[39m(name\u001b[38;5;241m.\u001b[39mindex(\u001b[38;5;124m'\u001b[39m\u001b[38;5;124mA\u001b[39m\u001b[38;5;124m'\u001b[39m))\n\u001b[0;32m----> 7\u001b[0m \u001b[38;5;28mprint\u001b[39m(\u001b[43mname\u001b[49m\u001b[38;5;241;43m.\u001b[39;49m\u001b[43mindex\u001b[49m\u001b[43m(\u001b[49m\u001b[38;5;124;43m'\u001b[39;49m\u001b[38;5;124;43mz\u001b[39;49m\u001b[38;5;124;43m'\u001b[39;49m\u001b[43m)\u001b[49m)\n",
      "\u001b[0;31mValueError\u001b[0m: substring not found"
     ]
    }
   ],
   "source": [
    "# Method to return the index of the first occurrence of a given value:\n",
    "# This method returns an error if the given char / string are not found.\n",
    "\n",
    "name = 'Tony Acosta Flores'\n",
    "fullname = 'Antonio Acosta Flores'\n",
    "print(name.index('A'))\n",
    "print(name.index('z'))"
   ]
  },
  {
   "cell_type": "code",
   "execution_count": 11,
   "id": "ff776987-4bca-4ad1-b91e-ceb61494cbe4",
   "metadata": {},
   "outputs": [
    {
     "name": "stdout",
     "output_type": "stream",
     "text": [
      "5\n",
      "-1\n",
      "7\n",
      "-1\n"
     ]
    }
   ],
   "source": [
    "# Method to return the index of the first occurrence of a given character / string / substring.\n",
    "# This method return -1 if the value is not found.\n",
    "\n",
    "print(name.find('Acosta'))\n",
    "print(name.find('z'))\n",
    "\n",
    "# Two parameters version of the find method which defines the start point to look for the char / string.\n",
    "\n",
    "print(name.find('o', 2))\n",
    "\n",
    "# Three parameters version of the find method which defines the start point to look for the char  string and define the index limit to look into the string.\n",
    "# The above method returns -1 since the second 2 is not included in the 17 index from the third parameter (exclusive).\n",
    "print(name.find('s', 9, 17))\n"
   ]
  },
  {
   "cell_type": "code",
   "execution_count": 24,
   "id": "19a0fa0d-98d2-4ca6-890a-f6c5c7b4782f",
   "metadata": {},
   "outputs": [
    {
     "name": "stdout",
     "output_type": "stream",
     "text": [
      "17\n",
      "10\n"
     ]
    }
   ],
   "source": [
    "# Method similar to find but start looking from the right (the end of the string)\n",
    "# 2 and 3 parameters version of the method is the same as find method\n",
    "\n",
    "print(fullname.rfind('o'))\n",
    "print(fullname.rfind('o', 1, 11))"
   ]
  },
  {
   "cell_type": "code",
   "execution_count": 27,
   "id": "43b8a427-ae22-40eb-b2ee-29a830e18e32",
   "metadata": {},
   "outputs": [
    {
     "name": "stdout",
     "output_type": "stream",
     "text": [
      "True\n",
      "False\n"
     ]
    }
   ],
   "source": [
    "# Method to check if the string have only alfanumerical characters\n",
    "\n",
    "alfanumString = 'abcd123'\n",
    "not_alfanumString = 'abcd_123'\n",
    "\n",
    "print(alfanumString.isalnum())\n",
    "print(not_alfanumString.isalnum())"
   ]
  },
  {
   "cell_type": "code",
   "execution_count": 29,
   "id": "c3600e2a-4023-4daa-b783-d2428f62a953",
   "metadata": {},
   "outputs": [
    {
     "name": "stdout",
     "output_type": "stream",
     "text": [
      "True\n",
      "False\n"
     ]
    }
   ],
   "source": [
    "# Method to check if string only have alfabethical characters\n",
    "\n",
    "alfabethical_string = 'Tony'\n",
    "not_alfabethical_string = '$Tony'\n",
    "\n",
    "print(alfabethical_string.isalpha())\n",
    "print(not_alfabethical_string.isalpha())"
   ]
  },
  {
   "cell_type": "code",
   "execution_count": 33,
   "id": "3c759fa4-32d7-46bc-9d57-03b4229d796d",
   "metadata": {},
   "outputs": [
    {
     "name": "stdout",
     "output_type": "stream",
     "text": [
      "True\n",
      "False\n"
     ]
    }
   ],
   "source": [
    "# Method to check if the string only have numerical characters\n",
    "\n",
    "numerical_string = '1234'\n",
    "not_numerical_string = '$1234'\n",
    "\n",
    "print(numerical_string.isdigit())\n",
    "print(not_numerical_string.isdigit())"
   ]
  },
  {
   "cell_type": "code",
   "execution_count": 15,
   "id": "5c93e15e-f548-4138-9bc5-7cc92040222b",
   "metadata": {},
   "outputs": [
    {
     "name": "stdout",
     "output_type": "stream",
     "text": [
      "ANTONIO\n",
      "tony\n",
      "Acosta\n",
      "  \n",
      "\n",
      "\n",
      "\t\n",
      " \n",
      " \n",
      "Checking if string 'ANTONIO' is capitalized -> True\n",
      "Checking if string 'tony' is lowercase -> True\n",
      "Checking if string 'Acosta' is capitalized -> False\n",
      "Checking if string 'Acosta' is lowercase -> False\n",
      "Checking if string '  ' have white spaces -> True\n",
      "Checking if string '\n",
      "' have white spaces -> True\n",
      "Checking if string '\t' have white spaces -> True\n",
      "Checking if string ' \n",
      " ' have white spaces -> True\n"
     ]
    }
   ],
   "source": [
    "# Method to check if letters are capital or lowercase and to check for the white spaces.\n",
    "\n",
    "capitalized_string = 'ANTONIO'\n",
    "lowercase_string = 'tony'\n",
    "invalid_case_string = 'Acosta'\n",
    "space_string = '  '\n",
    "newLine_string = '\\n'\n",
    "tab_string = '\\t'\n",
    "bothspaceAndNewLine = ' \\n '\n",
    "\n",
    "print(capitalized_string)\n",
    "print(lowercase_string)\n",
    "print(invalid_case_string)\n",
    "print(space_string)\n",
    "print(newLine_string)\n",
    "print(tab_string)\n",
    "print(bothspaceAndNewLine)\n",
    "\n",
    "print('Checking if string \\'' + capitalized_string + '\\' is capitalized ->', capitalized_string.isupper())\n",
    "print('Checking if string \\'' + lowercase_string + '\\' is lowercase ->', lowercase_string.islower())\n",
    "print('Checking if string \\'' + invalid_case_string + '\\' is capitalized ->', invalid_case_string.isupper())\n",
    "print('Checking if string \\'' + invalid_case_string + '\\' is lowercase ->', invalid_case_string.islower())\n",
    "\n",
    "print('Checking if string \\'' + space_string + '\\' have white spaces ->', space_string.isspace())\n",
    "print('Checking if string \\'' + newLine_string + '\\' have white spaces ->', newLine_string.isspace())\n",
    "print('Checking if string \\'' + tab_string + '\\' have white spaces ->', tab_string.isspace())\n",
    "print('Checking if string \\'' + bothspaceAndNewLine + '\\' have white spaces ->', bothspaceAndNewLine.isspace())\n"
   ]
  }
 ],
 "metadata": {
  "kernelspec": {
   "display_name": "Python 3 (ipykernel)",
   "language": "python",
   "name": "python3"
  },
  "language_info": {
   "codemirror_mode": {
    "name": "ipython",
    "version": 3
   },
   "file_extension": ".py",
   "mimetype": "text/x-python",
   "name": "python",
   "nbconvert_exporter": "python",
   "pygments_lexer": "ipython3",
   "version": "3.12.1"
  }
 },
 "nbformat": 4,
 "nbformat_minor": 5
}
