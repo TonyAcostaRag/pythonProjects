{
 "cells": [
  {
   "cell_type": "code",
   "execution_count": 2,
   "id": "5e2a3057-402f-41ad-928e-847d4ff338cb",
   "metadata": {},
   "outputs": [
    {
     "name": "stdin",
     "output_type": "stream",
     "text": [
      "Enter an integer 8\n"
     ]
    },
    {
     "name": "stdout",
     "output_type": "stream",
     "text": [
      "Good. Valid digit entered\n",
      "As finally I'm always executed\n"
     ]
    }
   ],
   "source": [
    "try:\n",
    "    value = int(input('Enter an integer'))\n",
    "except ValueError:\n",
    "    print('Invalid digit entered')\n",
    "else:\n",
    "    print('Good. Valid digit entered')\n",
    "finally:\n",
    "    print('As finally I\\'m always executed')"
   ]
  },
  {
   "cell_type": "code",
   "execution_count": 3,
   "id": "a017e768-82f0-43be-80fa-1aebf8875fd4",
   "metadata": {},
   "outputs": [
    {
     "name": "stdin",
     "output_type": "stream",
     "text": [
      "Enter an integer f\n"
     ]
    },
    {
     "name": "stdout",
     "output_type": "stream",
     "text": [
      "Invalid digit entered\n",
      "As finally I'm always executed\n"
     ]
    }
   ],
   "source": [
    "try:\n",
    "    value = int(input('Enter an integer'))\n",
    "except ValueError:\n",
    "    print('Invalid digit entered')\n",
    "else:\n",
    "    print('Good. Valid digit entered')\n",
    "finally:\n",
    "    print('As finally I\\'m always executed')"
   ]
  }
 ],
 "metadata": {
  "kernelspec": {
   "display_name": "Python 3 (ipykernel)",
   "language": "python",
   "name": "python3"
  },
  "language_info": {
   "codemirror_mode": {
    "name": "ipython",
    "version": 3
   },
   "file_extension": ".py",
   "mimetype": "text/x-python",
   "name": "python",
   "nbconvert_exporter": "python",
   "pygments_lexer": "ipython3",
   "version": "3.12.1"
  }
 },
 "nbformat": 4,
 "nbformat_minor": 5
}
