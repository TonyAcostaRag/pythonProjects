{
 "cells": [
  {
   "cell_type": "code",
   "execution_count": 3,
   "id": "33338889-ba4e-400e-9d7d-c68df2309d49",
   "metadata": {},
   "outputs": [],
   "source": [
    "# In Python exceptions are propagated through functions.\n",
    "\n",
    "def get_day(user_info):\n",
    "    day = int(input('Enter the day of birth'))\n",
    "    user_info.append(day)\n",
    "\n",
    "def get_month(user_info):\n",
    "    month = int(input('Enter the month of birth'))\n",
    "    user_info.append(month)\n",
    "\n",
    "def get_year(user_info):\n",
    "    year = int(input('Enter the year of birth'))\n",
    "    user_info.append(year)\n"
   ]
  },
  {
   "cell_type": "code",
   "execution_count": 4,
   "id": "78caedfe-122f-4f96-8813-85260cf2ac63",
   "metadata": {},
   "outputs": [],
   "source": [
    "def get_user_bday(user_info):\n",
    "    try:\n",
    "        get_day(user_info)\n",
    "        get_month(user_info)\n",
    "        get_year(user_info)\n",
    "        print('So your bday is', user_info)\n",
    "    except:\n",
    "        print('You entered incorrect data, bye!')"
   ]
  },
  {
   "cell_type": "code",
   "execution_count": 5,
   "id": "7eef527f-5461-4c4b-bf5d-6dd0d0191122",
   "metadata": {},
   "outputs": [
    {
     "name": "stdout",
     "output_type": "stream",
     "text": [
      "Hi, I will collect some info about your bday!\n"
     ]
    },
    {
     "name": "stdin",
     "output_type": "stream",
     "text": [
      "Enter the day of birth a\n"
     ]
    },
    {
     "name": "stdout",
     "output_type": "stream",
     "text": [
      "You entered incorrect data, bye!\n"
     ]
    }
   ],
   "source": [
    "print('Hi, I will collect some info about your bday!')\n",
    "user_info = []\n",
    "get_user_bday(user_info)"
   ]
  }
 ],
 "metadata": {
  "kernelspec": {
   "display_name": "Python 3 (ipykernel)",
   "language": "python",
   "name": "python3"
  },
  "language_info": {
   "codemirror_mode": {
    "name": "ipython",
    "version": 3
   },
   "file_extension": ".py",
   "mimetype": "text/x-python",
   "name": "python",
   "nbconvert_exporter": "python",
   "pygments_lexer": "ipython3",
   "version": "3.12.1"
  }
 },
 "nbformat": 4,
 "nbformat_minor": 5
}
