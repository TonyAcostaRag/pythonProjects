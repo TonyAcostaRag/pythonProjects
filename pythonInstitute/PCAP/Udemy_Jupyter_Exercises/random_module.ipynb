{
 "cells": [
  {
   "cell_type": "code",
   "execution_count": 3,
   "id": "7ad47e36-dfe4-4e47-86a2-a6b6bf7fcfed",
   "metadata": {},
   "outputs": [],
   "source": [
    "import random"
   ]
  },
  {
   "cell_type": "code",
   "execution_count": 4,
   "id": "fb5f9e0b-a44a-4f1c-beae-5df5a1a1267c",
   "metadata": {},
   "outputs": [
    {
     "name": "stdout",
     "output_type": "stream",
     "text": [
      "0.8444218515250481\n",
      "0.7579544029403025\n",
      "0.420571580830845\n"
     ]
    }
   ],
   "source": [
    "random.seed(0)\n",
    "print(random.random())\n",
    "print(random.random())\n",
    "print(random.random())"
   ]
  },
  {
   "cell_type": "code",
   "execution_count": 5,
   "id": "574c2ae1-f1aa-4655-bdf2-b0be1bf48f44",
   "metadata": {},
   "outputs": [
    {
     "name": "stdout",
     "output_type": "stream",
     "text": [
      "5\n",
      "Livi\n"
     ]
    }
   ],
   "source": [
    "numbers = [1, 2, 3, 4, 5, 6, 7, 8, 9, 10]\n",
    "names = ['Carolina', 'Tony', 'Isai', 'Gisela', 'Livi', 'Diego']\n",
    "\n",
    "print(random.choice(numbers))\n",
    "print(random.choice(names))\n"
   ]
  },
  {
   "cell_type": "code",
   "execution_count": 6,
   "id": "79990611-ef5d-45d8-a51c-bfc05347e181",
   "metadata": {},
   "outputs": [
    {
     "name": "stdout",
     "output_type": "stream",
     "text": [
      "['Gisela', 'Diego', 'Isai', 'Tony', 'Livi', 'Carolina']\n",
      "['Livi', 'Tony', 'Isai', 'Carolina', 'Gisela']\n",
      "['Livi', 'Isai', 'Tony', 'Gisela']\n",
      "['Carolina', 'Diego', 'Isai']\n",
      "['Gisela', 'Livi']\n",
      "['Carolina']\n"
     ]
    }
   ],
   "source": [
    "print(random.sample( names, 6 ))\n",
    "print(random.sample( names, 5 ))\n",
    "print(random.sample( names, 4 ))\n",
    "print(random.sample( names, 3 ))\n",
    "print(random.sample( names, 2 ))\n",
    "print(random.sample( names, 1 ))"
   ]
  },
  {
   "cell_type": "code",
   "execution_count": 7,
   "id": "212d8053-72c8-45f1-9cc8-85fa8c00c042",
   "metadata": {},
   "outputs": [
    {
     "name": "stdout",
     "output_type": "stream",
     "text": [
      "([5, 6, 9, 4, 7], 6)\n"
     ]
    }
   ],
   "source": [
    "def generate_tickets(ticket_count, max_number):\n",
    "    list_to_return = random.sample(range(0, max_number), ticket_count)\n",
    "    return (list_to_return, random.choice(list_to_return))\n",
    "\n",
    "print(generate_tickets(5, 10))"
   ]
  }
 ],
 "metadata": {
  "kernelspec": {
   "display_name": "Python 3 (ipykernel)",
   "language": "python",
   "name": "python3"
  },
  "language_info": {
   "codemirror_mode": {
    "name": "ipython",
    "version": 3
   },
   "file_extension": ".py",
   "mimetype": "text/x-python",
   "name": "python",
   "nbconvert_exporter": "python",
   "pygments_lexer": "ipython3",
   "version": "3.12.1"
  }
 },
 "nbformat": 4,
 "nbformat_minor": 5
}
